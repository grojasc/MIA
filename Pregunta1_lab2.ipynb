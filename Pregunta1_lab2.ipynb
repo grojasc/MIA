{
  "cells": [
    {
      "cell_type": "markdown",
      "metadata": {
        "id": "view-in-github",
        "colab_type": "text"
      },
      "source": [
        "<a href=\"https://colab.research.google.com/github/grojasc/MIA/blob/main/Pregunta1_lab2.ipynb\" target=\"_parent\"><img src=\"https://colab.research.google.com/assets/colab-badge.svg\" alt=\"Open In Colab\"/></a>"
      ]
    },
    {
      "cell_type": "markdown",
      "metadata": {
        "id": "KWKW-n7OCeK1"
      },
      "source": [
        "# Integrantes: Nestor Borre, Gonzalo Rojas\n"
      ]
    },
    {
      "cell_type": "markdown",
      "metadata": {
        "id": "AM63IqDQC43z"
      },
      "source": [
        "## Instalar Librerías"
      ]
    },
    {
      "cell_type": "code",
      "execution_count": null,
      "metadata": {
        "colab": {
          "base_uri": "https://localhost:8080/"
        },
        "id": "A7PeWds_TWEk",
        "outputId": "faacd3cb-e96b-4428-d552-d16834b28329"
      },
      "outputs": [
        {
          "output_type": "stream",
          "name": "stderr",
          "text": [
            "Installing package into ‘/usr/local/lib/R/site-library’\n",
            "(as ‘lib’ is unspecified)\n",
            "\n",
            "also installing the dependencies ‘minqa’, ‘nloptr’, ‘Rcpp’, ‘RcppEigen’, ‘lme4’\n",
            "\n",
            "\n"
          ]
        }
      ],
      "source": [
        "install.packages(\"faraway\")\n"
      ]
    },
    {
      "cell_type": "code",
      "execution_count": null,
      "metadata": {
        "colab": {
          "base_uri": "https://localhost:8080/"
        },
        "id": "bt6Sf1F37Xth",
        "outputId": "eb34c2ac-fca6-4b27-ce08-86971a970505"
      },
      "outputs": [
        {
          "output_type": "stream",
          "name": "stderr",
          "text": [
            "Installing package into ‘/usr/local/lib/R/site-library’\n",
            "(as ‘lib’ is unspecified)\n",
            "\n",
            "Warning message:\n",
            "“package ‘stats’ is a base package, and should not be updated”\n",
            "Installing package into ‘/usr/local/lib/R/site-library’\n",
            "(as ‘lib’ is unspecified)\n",
            "\n",
            "also installing the dependencies ‘listenv’, ‘parallelly’, ‘future’, ‘globals’, ‘future.apply’, ‘progressr’, ‘numDeriv’, ‘SQUAREM’, ‘lava’, ‘prodlim’, ‘proxy’, ‘iterators’, ‘gower’, ‘hardhat’, ‘ipred’, ‘timeDate’, ‘e1071’, ‘foreach’, ‘ModelMetrics’, ‘plyr’, ‘pROC’, ‘recipes’, ‘reshape2’\n",
            "\n",
            "\n",
            "Installing package into ‘/usr/local/lib/R/site-library’\n",
            "(as ‘lib’ is unspecified)\n",
            "\n",
            "Installing package into ‘/usr/local/lib/R/site-library’\n",
            "(as ‘lib’ is unspecified)\n",
            "\n",
            "also installing the dependencies ‘deldir’, ‘png’, ‘jpeg’, ‘interp’, ‘rbibutils’, ‘latticeExtra’, ‘Rdpack’\n",
            "\n",
            "\n"
          ]
        }
      ],
      "source": [
        "#instalar paquetes\n",
        "#install.packages(\"ggcorrplot\")\n",
        "#install.packages(\"skimr\")\n",
        "install.packages(\"stats\")\n",
        "#install.packages(\"factoextra\")\n",
        "#install.packages(\"clustertend\")\n",
        "#install.packages(\"hopkins\")\n",
        "#install.packages(\"tidyverse\")\n",
        "#installed.packages(\"ggplot2\")\n",
        "#install.packages(\"DataExplorer\")\n",
        "#install.packages(\"kableExtra\")\n",
        "install.packages(\"caret\")\n",
        "install.packages(\"splitTools\")\n",
        "install.packages(\"DAAG\")"
      ]
    },
    {
      "cell_type": "code",
      "execution_count": null,
      "metadata": {
        "colab": {
          "base_uri": "https://localhost:8080/"
        },
        "id": "v1CjQbbl_UJt",
        "outputId": "bbc163d4-2142-4c3c-f60a-4d4b643fff73"
      },
      "outputs": [
        {
          "output_type": "stream",
          "name": "stderr",
          "text": [
            "Installing package into ‘/usr/local/lib/R/site-library’\n",
            "(as ‘lib’ is unspecified)\n",
            "\n",
            "Installing package into ‘/usr/local/lib/R/site-library’\n",
            "(as ‘lib’ is unspecified)\n",
            "\n",
            "Installing package into ‘/usr/local/lib/R/site-library’\n",
            "(as ‘lib’ is unspecified)\n",
            "\n",
            "Installing package into ‘/usr/local/lib/R/site-library’\n",
            "(as ‘lib’ is unspecified)\n",
            "\n",
            "Installing package into ‘/usr/local/lib/R/site-library’\n",
            "(as ‘lib’ is unspecified)\n",
            "\n"
          ]
        }
      ],
      "source": [
        "install.packages(\"pROC\")\n",
        "install.packages(\"mlbench\")\n",
        "install.packages(\"MASS\")\n",
        "install.packages(\"naivebayes\")\n",
        "install.packages(\"Metrics\")"
      ]
    },
    {
      "cell_type": "code",
      "execution_count": null,
      "metadata": {
        "colab": {
          "base_uri": "https://localhost:8080/"
        },
        "id": "utzjaTwfAsOf",
        "outputId": "7cb960b4-c4f5-4c51-d162-383d3005b072"
      },
      "outputs": [
        {
          "output_type": "stream",
          "name": "stderr",
          "text": [
            "Installing package into ‘/usr/local/lib/R/site-library’\n",
            "(as ‘lib’ is unspecified)\n",
            "\n",
            "Installing package into ‘/usr/local/lib/R/site-library’\n",
            "(as ‘lib’ is unspecified)\n",
            "\n"
          ]
        }
      ],
      "source": [
        "install.packages(\"lme4\")\n",
        "install.packages(\"LogicReg\")"
      ]
    },
    {
      "cell_type": "markdown",
      "metadata": {
        "id": "-6xpCD92C__P"
      },
      "source": [
        "## Importar Librerías"
      ]
    },
    {
      "cell_type": "code",
      "execution_count": null,
      "metadata": {
        "id": "zbRDhiQOPoPM",
        "colab": {
          "base_uri": "https://localhost:8080/"
        },
        "outputId": "dd5461e0-0156-4fe2-c6d4-5be5edb6ae92"
      },
      "outputs": [
        {
          "output_type": "stream",
          "name": "stderr",
          "text": [
            "Loading required package: ggplot2\n",
            "\n",
            "Loading required package: lattice\n",
            "\n",
            "\n",
            "Attaching package: ‘lattice’\n",
            "\n",
            "\n",
            "The following object is masked from ‘package:faraway’:\n",
            "\n",
            "    melanoma\n",
            "\n",
            "\n",
            "Warning message in system(\"timedatectl\", intern = TRUE):\n",
            "“running command 'timedatectl' had status 1”\n",
            "\n",
            "Attaching package: ‘DAAG’\n",
            "\n",
            "\n",
            "The following objects are masked from ‘package:faraway’:\n",
            "\n",
            "    orings, ozone, vif\n",
            "\n",
            "\n",
            "Type 'citation(\"pROC\")' for a citation.\n",
            "\n",
            "\n",
            "Attaching package: ‘pROC’\n",
            "\n",
            "\n",
            "The following objects are masked from ‘package:stats’:\n",
            "\n",
            "    cov, smooth, var\n",
            "\n",
            "\n",
            "\n",
            "Attaching package: ‘MASS’\n",
            "\n",
            "\n",
            "The following object is masked from ‘package:DAAG’:\n",
            "\n",
            "    hills\n",
            "\n",
            "\n",
            "Loading required package: Matrix\n",
            "\n",
            "naivebayes 0.9.7 loaded\n",
            "\n",
            "\n",
            "Attaching package: ‘Metrics’\n",
            "\n",
            "\n",
            "The following object is masked from ‘package:pROC’:\n",
            "\n",
            "    auc\n",
            "\n",
            "\n",
            "The following objects are masked from ‘package:caret’:\n",
            "\n",
            "    precision, recall\n",
            "\n",
            "\n",
            "Loading required package: survival\n",
            "\n",
            "\n",
            "Attaching package: ‘survival’\n",
            "\n",
            "\n",
            "The following object is masked from ‘package:DAAG’:\n",
            "\n",
            "    lung\n",
            "\n",
            "\n",
            "The following object is masked from ‘package:caret’:\n",
            "\n",
            "    cluster\n",
            "\n",
            "\n",
            "The following objects are masked from ‘package:faraway’:\n",
            "\n",
            "    rats, solder\n",
            "\n",
            "\n"
          ]
        }
      ],
      "source": [
        "# importar librerías\n",
        "#library(cluster)\n",
        "#library(purrr)\n",
        "#library(clustertend)\n",
        "library(faraway)\n",
        "library(stats)\n",
        "#library(tidyverse)\n",
        "#library(factoextra)\n",
        "#library(hopkins)\n",
        "#library(skimr)\n",
        "#library(dplyr)\n",
        "#library(ggplot2)\n",
        "#library(DataExplorer)\n",
        "#library(ggcorrplot)\n",
        "#library(kableExtra)\n",
        "library(caret) # validación cruzada\n",
        "library(splitTools) # separación de datos\n",
        "library(DAAG)\n",
        "library(pROC)\n",
        "library(mlbench)\n",
        "library(MASS)\n",
        "library(lme4)\n",
        "library(naivebayes)\n",
        "library(Metrics)\n",
        "library(LogicReg)\n"
      ]
    },
    {
      "cell_type": "markdown",
      "metadata": {
        "id": "07Osd9XvBHoA"
      },
      "source": [
        "#**Pregunta parte 1:** \n",
        "Utilice el conjunto de datos “chicago” disponibles en la librería\n",
        "“faraway”. Considere Y = involact como variable respuesta, todas las dem´as ser´an variables explicativas.\n"
      ]
    },
    {
      "cell_type": "markdown",
      "metadata": {
        "id": "GzoI5i-2s0nM"
      },
      "source": [
        "## 1.1 Realizar una separación aleatoria de la data original, donde la muestra de entrenamiento considerar el 80% y la muestra test considerar el 20%. Reservar la muestra test para el final."
      ]
    },
    {
      "cell_type": "markdown",
      "metadata": {
        "id": "1gldU2DnDFC4"
      },
      "source": [
        "### Revisamos documentación del dataset Observamos un sample de los datos"
      ]
    },
    {
      "cell_type": "code",
      "execution_count": null,
      "metadata": {
        "colab": {
          "base_uri": "https://localhost:8080/",
          "height": 724
        },
        "id": "m-rQU_bS1JwN",
        "outputId": "9bfea23a-ebd9-4ab5-adc2-36647ac9eade"
      },
      "outputs": [
        {
          "output_type": "display_data",
          "data": {
            "text/html": [
              "<table class=\"dataframe\">\n",
              "<caption>A data.frame: 6 × 7</caption>\n",
              "<thead>\n",
              "\t<tr><th></th><th scope=col>race</th><th scope=col>fire</th><th scope=col>theft</th><th scope=col>age</th><th scope=col>volact</th><th scope=col>involact</th><th scope=col>income</th></tr>\n",
              "\t<tr><th></th><th scope=col>&lt;dbl&gt;</th><th scope=col>&lt;dbl&gt;</th><th scope=col>&lt;dbl&gt;</th><th scope=col>&lt;dbl&gt;</th><th scope=col>&lt;dbl&gt;</th><th scope=col>&lt;dbl&gt;</th><th scope=col>&lt;dbl&gt;</th></tr>\n",
              "</thead>\n",
              "<tbody>\n",
              "\t<tr><th scope=row>60626</th><td>10.0</td><td> 6.2</td><td>29</td><td>60.4</td><td>5.3</td><td>0.0</td><td>11744</td></tr>\n",
              "\t<tr><th scope=row>60640</th><td>22.2</td><td> 9.5</td><td>44</td><td>76.5</td><td>3.1</td><td>0.1</td><td> 9323</td></tr>\n",
              "\t<tr><th scope=row>60613</th><td>19.6</td><td>10.5</td><td>36</td><td>73.5</td><td>4.8</td><td>1.2</td><td> 9948</td></tr>\n",
              "\t<tr><th scope=row>60657</th><td>17.3</td><td> 7.7</td><td>37</td><td>66.9</td><td>5.7</td><td>0.5</td><td>10656</td></tr>\n",
              "\t<tr><th scope=row>60614</th><td>24.5</td><td> 8.6</td><td>53</td><td>81.4</td><td>5.9</td><td>0.7</td><td> 9730</td></tr>\n",
              "\t<tr><th scope=row>60610</th><td>54.0</td><td>34.1</td><td>68</td><td>52.6</td><td>4.0</td><td>0.3</td><td> 8231</td></tr>\n",
              "</tbody>\n",
              "</table>\n"
            ],
            "text/markdown": "\nA data.frame: 6 × 7\n\n| <!--/--> | race &lt;dbl&gt; | fire &lt;dbl&gt; | theft &lt;dbl&gt; | age &lt;dbl&gt; | volact &lt;dbl&gt; | involact &lt;dbl&gt; | income &lt;dbl&gt; |\n|---|---|---|---|---|---|---|---|\n| 60626 | 10.0 |  6.2 | 29 | 60.4 | 5.3 | 0.0 | 11744 |\n| 60640 | 22.2 |  9.5 | 44 | 76.5 | 3.1 | 0.1 |  9323 |\n| 60613 | 19.6 | 10.5 | 36 | 73.5 | 4.8 | 1.2 |  9948 |\n| 60657 | 17.3 |  7.7 | 37 | 66.9 | 5.7 | 0.5 | 10656 |\n| 60614 | 24.5 |  8.6 | 53 | 81.4 | 5.9 | 0.7 |  9730 |\n| 60610 | 54.0 | 34.1 | 68 | 52.6 | 4.0 | 0.3 |  8231 |\n\n",
            "text/latex": "A data.frame: 6 × 7\n\\begin{tabular}{r|lllllll}\n  & race & fire & theft & age & volact & involact & income\\\\\n  & <dbl> & <dbl> & <dbl> & <dbl> & <dbl> & <dbl> & <dbl>\\\\\n\\hline\n\t60626 & 10.0 &  6.2 & 29 & 60.4 & 5.3 & 0.0 & 11744\\\\\n\t60640 & 22.2 &  9.5 & 44 & 76.5 & 3.1 & 0.1 &  9323\\\\\n\t60613 & 19.6 & 10.5 & 36 & 73.5 & 4.8 & 1.2 &  9948\\\\\n\t60657 & 17.3 &  7.7 & 37 & 66.9 & 5.7 & 0.5 & 10656\\\\\n\t60614 & 24.5 &  8.6 & 53 & 81.4 & 5.9 & 0.7 &  9730\\\\\n\t60610 & 54.0 & 34.1 & 68 & 52.6 & 4.0 & 0.3 &  8231\\\\\n\\end{tabular}\n",
            "text/plain": [
              "      race fire theft age  volact involact income\n",
              "60626 10.0  6.2 29    60.4 5.3    0.0      11744 \n",
              "60640 22.2  9.5 44    76.5 3.1    0.1       9323 \n",
              "60613 19.6 10.5 36    73.5 4.8    1.2       9948 \n",
              "60657 17.3  7.7 37    66.9 5.7    0.5      10656 \n",
              "60614 24.5  8.6 53    81.4 5.9    0.7       9730 \n",
              "60610 54.0 34.1 68    52.6 4.0    0.3       8231 "
            ]
          },
          "metadata": {}
        },
        {
          "output_type": "display_data",
          "data": {
            "text/html": [
              "<style>\n",
              ".list-inline {list-style: none; margin:0; padding: 0}\n",
              ".list-inline>li {display: inline-block}\n",
              ".list-inline>li:not(:last-child)::after {content: \"\\00b7\"; padding: 0 .5ex}\n",
              "</style>\n",
              "<ol class=list-inline><li>'race'</li><li>'fire'</li><li>'theft'</li><li>'age'</li><li>'volact'</li><li>'involact'</li><li>'income'</li></ol>\n"
            ],
            "text/markdown": "1. 'race'\n2. 'fire'\n3. 'theft'\n4. 'age'\n5. 'volact'\n6. 'involact'\n7. 'income'\n\n\n",
            "text/latex": "\\begin{enumerate*}\n\\item 'race'\n\\item 'fire'\n\\item 'theft'\n\\item 'age'\n\\item 'volact'\n\\item 'involact'\n\\item 'income'\n\\end{enumerate*}\n",
            "text/plain": [
              "[1] \"race\"     \"fire\"     \"theft\"    \"age\"      \"volact\"   \"involact\" \"income\"  "
            ]
          },
          "metadata": {}
        },
        {
          "output_type": "display_data",
          "data": {
            "text/plain": [
              "plot without title"
            ],
            "image/png": "[encoded data removed]"
          },
          "metadata": {
            "image/png": {
              "width": 420,
              "height": 420
            }
          }
        }
      ],
      "source": [
        "# Cargar y comprender datos iniciales\n",
        "?chicago\n",
        "head(chicago)\n",
        "names(chicago)\n",
        "\n",
        "plot(faraway::chicago)"
      ]
    },
    {
      "cell_type": "markdown",
      "metadata": {
        "id": "Z147fG3LbD_g"
      },
      "source": [
        "**race**:          racial composition in percent minority\n",
        "\n",
        "**fire**:           fires per 100 housing units\n",
        "\n",
        "**theft**:         theft per 1000 population\n",
        "\n",
        "**age**:           percent of housing units built before 1939\n",
        "\n",
        "**volact**:       new homeowner policies plus renewals minus cancellations and non renewals per 100 housing units\n",
        "\n",
        "**involact**:    new FAIR plan policies and renewals per 100 housing units\n",
        "\n",
        "**income**:     median family income"
      ]
    },
    {
      "cell_type": "markdown",
      "metadata": {
        "id": "2cAHHEHwZ0Bs"
      },
      "source": [
        "## partición"
      ]
    },
    {
      "cell_type": "code",
      "execution_count": null,
      "metadata": {
        "id": "kADu9JYWtBNi"
      },
      "outputs": [],
      "source": [
        "set.seed(2)\n",
        "ind_train <- partition(1:nrow(chicago), p=c(0.8, 0.2))\n",
        "data.train <- chicago[ind_train$`1`,]\n",
        "data.test <- chicago[ind_train$`2`,]"
      ]
    },
    {
      "cell_type": "code",
      "execution_count": null,
      "metadata": {
        "colab": {
          "base_uri": "https://localhost:8080/",
          "height": 437
        },
        "id": "-GGbj21ftBKJ",
        "outputId": "efcc12c9-335a-43bb-e484-f887dbdb2335"
      },
      "outputs": [
        {
          "output_type": "display_data",
          "data": {
            "text/plain": [
              "plot without title"
            ],
            "image/png": "[encoded data removed]"
          },
          "metadata": {
            "image/png": {
              "width": 420,
              "height": 420
            }
          }
        }
      ],
      "source": [
        "plot(involact~race, pch=20, col=\"gray\", data=data.train)\n",
        "points(involact~race, pch=20, col=\"red\", data=data.test)"
      ]
    },
    {
      "cell_type": "code",
      "execution_count": null,
      "metadata": {
        "colab": {
          "base_uri": "https://localhost:8080/",
          "height": 52
        },
        "id": "MOj-I3m4vL5h",
        "outputId": "09ad7b0d-38b7-4eb3-b1ac-899dbf514380"
      },
      "outputs": [
        {
          "output_type": "display_data",
          "data": {
            "text/html": [
              "<style>\n",
              ".list-inline {list-style: none; margin:0; padding: 0}\n",
              ".list-inline>li {display: inline-block}\n",
              ".list-inline>li:not(:last-child)::after {content: \"\\00b7\"; padding: 0 .5ex}\n",
              "</style>\n",
              "<ol class=list-inline><li>37</li><li>7</li></ol>\n"
            ],
            "text/markdown": "1. 37\n2. 7\n\n\n",
            "text/latex": "\\begin{enumerate*}\n\\item 37\n\\item 7\n\\end{enumerate*}\n",
            "text/plain": [
              "[1] 37  7"
            ]
          },
          "metadata": {}
        },
        {
          "output_type": "display_data",
          "data": {
            "text/html": [
              "<style>\n",
              ".list-inline {list-style: none; margin:0; padding: 0}\n",
              ".list-inline>li {display: inline-block}\n",
              ".list-inline>li:not(:last-child)::after {content: \"\\00b7\"; padding: 0 .5ex}\n",
              "</style>\n",
              "<ol class=list-inline><li>10</li><li>7</li></ol>\n"
            ],
            "text/markdown": "1. 10\n2. 7\n\n\n",
            "text/latex": "\\begin{enumerate*}\n\\item 10\n\\item 7\n\\end{enumerate*}\n",
            "text/plain": [
              "[1] 10  7"
            ]
          },
          "metadata": {}
        }
      ],
      "source": [
        "dim(data.train)\n",
        "dim(data.test )"
      ]
    },
    {
      "cell_type": "markdown",
      "metadata": {
        "id": "xIs50dwztClK"
      },
      "source": [
        "## 1.2 Seleccione alguna de las medidas de desempeño que pueda ser utilizada a este conjunto de datos. Indique el criterio utilizado.\n"
      ]
    },
    {
      "cell_type": "markdown",
      "metadata": {
        "id": "S-IZ04lSIp1Y"
      },
      "source": [
        "Se utilizará **RMSE** ->Error de raíz cuadrada media, y se elegirá el que tenga menor  para comparar y seleccionar los modelos."
      ]
    },
    {
      "cell_type": "markdown",
      "metadata": {
        "id": "9HIkwJKhtN_d"
      },
      "source": [
        "## 1.3 Utilizando la muestra de entrenamiento, junto con la validación cruzada k-fold (para algún k seleccionado por usted) y la medida de desempeño escogida, compare el modelo de regresión lineal y el k-NN. ¿Cuál de los métodos tiene el mejor resultado, según la validación cruzada k-fold?"
      ]
    },
    {
      "cell_type": "code",
      "execution_count": null,
      "metadata": {
        "colab": {
          "base_uri": "https://localhost:8080/",
          "height": 260
        },
        "id": "AaZJf5j0Bix4",
        "outputId": "374b682a-ca8e-4eb2-ab28-f2ae01d63fc0"
      },
      "outputs": [
        {
          "output_type": "display_data",
          "data": {
            "text/plain": [
              "Linear Regression \n",
              "\n",
              "37 samples\n",
              " 6 predictor\n",
              "\n",
              "No pre-processing\n",
              "Resampling: Cross-Validated (3 fold) \n",
              "Summary of sample sizes: 24, 25, 25 \n",
              "Resampling results:\n",
              "\n",
              "  RMSE       Rsquared   MAE      \n",
              "  0.4816685  0.5240542  0.3431864\n",
              "\n",
              "Tuning parameter 'intercept' was held constant at a value of TRUE"
            ]
          },
          "metadata": {}
        }
      ],
      "source": [
        "# linear regression with k = 3\n",
        "trControl <- trainControl(method = \"cv\", number = 3)\n",
        "set.seed(333)\n",
        "fitlm <- train(involact~., data= data.train, method = \"lm\", trControl = trControl)\n",
        "fitlm\n"
      ]
    },
    {
      "cell_type": "code",
      "execution_count": null,
      "metadata": {
        "colab": {
          "base_uri": "https://localhost:8080/",
          "height": 1000
        },
        "id": "D-zIFYwt9mzk",
        "outputId": "3d48bdec-e149-494a-cda7-46d2279caa87"
      },
      "outputs": [
        {
          "output_type": "stream",
          "name": "stderr",
          "text": [
            "Warning message in knnregTrain(train = structure(c(-0.448156490547848, -0.526292743719644, :\n",
            "“k = 25 exceeds number 24 of patterns”\n",
            "Warning message in knnregTrain(train = structure(c(-0.448156490547848, -0.526292743719644, :\n",
            "“k = 26 exceeds number 24 of patterns”\n",
            "Warning message in knnregTrain(train = structure(c(-0.448156490547848, -0.526292743719644, :\n",
            "“k = 27 exceeds number 24 of patterns”\n",
            "Warning message in knnregTrain(train = structure(c(-0.448156490547848, -0.526292743719644, :\n",
            "“k = 28 exceeds number 24 of patterns”\n",
            "Warning message in knnregTrain(train = structure(c(-0.448156490547848, -0.526292743719644, :\n",
            "“k = 29 exceeds number 24 of patterns”\n",
            "Warning message in knnregTrain(train = structure(c(-0.448156490547848, -0.526292743719644, :\n",
            "“k = 30 exceeds number 24 of patterns”\n",
            "Warning message in knnregTrain(train = structure(c(-0.448156490547848, -0.526292743719644, :\n",
            "“k = 31 exceeds number 24 of patterns”\n",
            "Warning message in knnregTrain(train = structure(c(-0.448156490547848, -0.526292743719644, :\n",
            "“k = 32 exceeds number 24 of patterns”\n",
            "Warning message in knnregTrain(train = structure(c(-0.448156490547848, -0.526292743719644, :\n",
            "“k = 33 exceeds number 24 of patterns”\n",
            "Warning message in knnregTrain(train = structure(c(-0.448156490547848, -0.526292743719644, :\n",
            "“k = 34 exceeds number 24 of patterns”\n",
            "Warning message in knnregTrain(train = structure(c(-0.448156490547848, -0.526292743719644, :\n",
            "“k = 35 exceeds number 24 of patterns”\n",
            "Warning message in knnregTrain(train = structure(c(-0.448156490547848, -0.526292743719644, :\n",
            "“k = 36 exceeds number 24 of patterns”\n",
            "Warning message in knnregTrain(train = structure(c(-0.448156490547848, -0.526292743719644, :\n",
            "“k = 37 exceeds number 24 of patterns”\n",
            "Warning message in knnregTrain(train = structure(c(-0.448156490547848, -0.526292743719644, :\n",
            "“k = 38 exceeds number 24 of patterns”\n",
            "Warning message in knnregTrain(train = structure(c(-0.448156490547848, -0.526292743719644, :\n",
            "“k = 39 exceeds number 24 of patterns”\n",
            "Warning message in knnregTrain(train = structure(c(-0.448156490547848, -0.526292743719644, :\n",
            "“k = 40 exceeds number 24 of patterns”\n",
            "Warning message in knnregTrain(train = structure(c(-0.448156490547848, -0.526292743719644, :\n",
            "“k = 41 exceeds number 24 of patterns”\n",
            "Warning message in knnregTrain(train = structure(c(-0.448156490547848, -0.526292743719644, :\n",
            "“k = 42 exceeds number 24 of patterns”\n",
            "Warning message in knnregTrain(train = structure(c(-0.448156490547848, -0.526292743719644, :\n",
            "“k = 43 exceeds number 24 of patterns”\n",
            "Warning message in knnregTrain(train = structure(c(-0.448156490547848, -0.526292743719644, :\n",
            "“k = 44 exceeds number 24 of patterns”\n",
            "Warning message in knnregTrain(train = structure(c(-0.448156490547848, -0.526292743719644, :\n",
            "“k = 45 exceeds number 24 of patterns”\n",
            "Warning message in knnregTrain(train = structure(c(-0.448156490547848, -0.526292743719644, :\n",
            "“k = 46 exceeds number 24 of patterns”\n",
            "Warning message in knnregTrain(train = structure(c(-0.448156490547848, -0.526292743719644, :\n",
            "“k = 47 exceeds number 24 of patterns”\n",
            "Warning message in knnregTrain(train = structure(c(-0.448156490547848, -0.526292743719644, :\n",
            "“k = 48 exceeds number 24 of patterns”\n",
            "Warning message in knnregTrain(train = structure(c(-0.448156490547848, -0.526292743719644, :\n",
            "“k = 49 exceeds number 24 of patterns”\n",
            "Warning message in knnregTrain(train = structure(c(-0.448156490547848, -0.526292743719644, :\n",
            "“k = 50 exceeds number 24 of patterns”\n",
            "Warning message in knnregTrain(train = structure(c(-0.448156490547848, -0.526292743719644, :\n",
            "“k = 51 exceeds number 24 of patterns”\n",
            "Warning message in knnregTrain(train = structure(c(-0.448156490547848, -0.526292743719644, :\n",
            "“k = 52 exceeds number 24 of patterns”\n",
            "Warning message in knnregTrain(train = structure(c(-0.448156490547848, -0.526292743719644, :\n",
            "“k = 53 exceeds number 24 of patterns”\n",
            "Warning message in knnregTrain(train = structure(c(-0.448156490547848, -0.526292743719644, :\n",
            "“k = 54 exceeds number 24 of patterns”\n",
            "Warning message in knnregTrain(train = structure(c(-0.448156490547848, -0.526292743719644, :\n",
            "“k = 55 exceeds number 24 of patterns”\n",
            "Warning message in knnregTrain(train = structure(c(-0.448156490547848, -0.526292743719644, :\n",
            "“k = 56 exceeds number 24 of patterns”\n",
            "Warning message in knnregTrain(train = structure(c(-0.448156490547848, -0.526292743719644, :\n",
            "“k = 57 exceeds number 24 of patterns”\n",
            "Warning message in knnregTrain(train = structure(c(-0.448156490547848, -0.526292743719644, :\n",
            "“k = 58 exceeds number 24 of patterns”\n",
            "Warning message in knnregTrain(train = structure(c(-0.448156490547848, -0.526292743719644, :\n",
            "“k = 59 exceeds number 24 of patterns”\n",
            "Warning message in knnregTrain(train = structure(c(-0.448156490547848, -0.526292743719644, :\n",
            "“k = 60 exceeds number 24 of patterns”\n",
            "Warning message in knnregTrain(train = structure(c(-0.448156490547848, -0.526292743719644, :\n",
            "“k = 61 exceeds number 24 of patterns”\n",
            "Warning message in knnregTrain(train = structure(c(-0.448156490547848, -0.526292743719644, :\n",
            "“k = 62 exceeds number 24 of patterns”\n",
            "Warning message in knnregTrain(train = structure(c(-0.448156490547848, -0.526292743719644, :\n",
            "“k = 63 exceeds number 24 of patterns”\n",
            "Warning message in knnregTrain(train = structure(c(-0.448156490547848, -0.526292743719644, :\n",
            "“k = 64 exceeds number 24 of patterns”\n",
            "Warning message in knnregTrain(train = structure(c(-0.448156490547848, -0.526292743719644, :\n",
            "“k = 65 exceeds number 24 of patterns”\n",
            "Warning message in knnregTrain(train = structure(c(-0.448156490547848, -0.526292743719644, :\n",
            "“k = 66 exceeds number 24 of patterns”\n",
            "Warning message in knnregTrain(train = structure(c(-0.448156490547848, -0.526292743719644, :\n",
            "“k = 67 exceeds number 24 of patterns”\n",
            "Warning message in knnregTrain(train = structure(c(-0.448156490547848, -0.526292743719644, :\n",
            "“k = 68 exceeds number 24 of patterns”\n",
            "Warning message in knnregTrain(train = structure(c(-0.448156490547848, -0.526292743719644, :\n",
            "“k = 69 exceeds number 24 of patterns”\n",
            "Warning message in knnregTrain(train = structure(c(-0.448156490547848, -0.526292743719644, :\n",
            "“k = 70 exceeds number 24 of patterns”\n",
            "Warning message in knnregTrain(train = structure(c(-0.508829023881783, -0.655215955364917, :\n",
            "“k = 26 exceeds number 25 of patterns”\n",
            "Warning message in knnregTrain(train = structure(c(-0.508829023881783, -0.655215955364917, :\n",
            "“k = 27 exceeds number 25 of patterns”\n",
            "Warning message in knnregTrain(train = structure(c(-0.508829023881783, -0.655215955364917, :\n",
            "“k = 28 exceeds number 25 of patterns”\n",
            "Warning message in knnregTrain(train = structure(c(-0.508829023881783, -0.655215955364917, :\n",
            "“k = 29 exceeds number 25 of patterns”\n",
            "Warning message in knnregTrain(train = structure(c(-0.508829023881783, -0.655215955364917, :\n",
            "“k = 30 exceeds number 25 of patterns”\n",
            "Warning message in knnregTrain(train = structure(c(-0.508829023881783, -0.655215955364917, :\n",
            "“k = 31 exceeds number 25 of patterns”\n",
            "Warning message in knnregTrain(train = structure(c(-0.508829023881783, -0.655215955364917, :\n",
            "“k = 32 exceeds number 25 of patterns”\n",
            "Warning message in knnregTrain(train = structure(c(-0.508829023881783, -0.655215955364917, :\n",
            "“k = 33 exceeds number 25 of patterns”\n",
            "Warning message in knnregTrain(train = structure(c(-0.508829023881783, -0.655215955364917, :\n",
            "“k = 34 exceeds number 25 of patterns”\n",
            "Warning message in knnregTrain(train = structure(c(-0.508829023881783, -0.655215955364917, :\n",
            "“k = 35 exceeds number 25 of patterns”\n",
            "Warning message in knnregTrain(train = structure(c(-0.508829023881783, -0.655215955364917, :\n",
            "“k = 36 exceeds number 25 of patterns”\n",
            "Warning message in knnregTrain(train = structure(c(-0.508829023881783, -0.655215955364917, :\n",
            "“k = 37 exceeds number 25 of patterns”\n",
            "Warning message in knnregTrain(train = structure(c(-0.508829023881783, -0.655215955364917, :\n",
            "“k = 38 exceeds number 25 of patterns”\n",
            "Warning message in knnregTrain(train = structure(c(-0.508829023881783, -0.655215955364917, :\n",
            "“k = 39 exceeds number 25 of patterns”\n",
            "Warning message in knnregTrain(train = structure(c(-0.508829023881783, -0.655215955364917, :\n",
            "“k = 40 exceeds number 25 of patterns”\n",
            "Warning message in knnregTrain(train = structure(c(-0.508829023881783, -0.655215955364917, :\n",
            "“k = 41 exceeds number 25 of patterns”\n",
            "Warning message in knnregTrain(train = structure(c(-0.508829023881783, -0.655215955364917, :\n",
            "“k = 42 exceeds number 25 of patterns”\n",
            "Warning message in knnregTrain(train = structure(c(-0.508829023881783, -0.655215955364917, :\n",
            "“k = 43 exceeds number 25 of patterns”\n",
            "Warning message in knnregTrain(train = structure(c(-0.508829023881783, -0.655215955364917, :\n",
            "“k = 44 exceeds number 25 of patterns”\n",
            "Warning message in knnregTrain(train = structure(c(-0.508829023881783, -0.655215955364917, :\n",
            "“k = 45 exceeds number 25 of patterns”\n",
            "Warning message in knnregTrain(train = structure(c(-0.508829023881783, -0.655215955364917, :\n",
            "“k = 46 exceeds number 25 of patterns”\n",
            "Warning message in knnregTrain(train = structure(c(-0.508829023881783, -0.655215955364917, :\n",
            "“k = 47 exceeds number 25 of patterns”\n",
            "Warning message in knnregTrain(train = structure(c(-0.508829023881783, -0.655215955364917, :\n",
            "“k = 48 exceeds number 25 of patterns”\n",
            "Warning message in knnregTrain(train = structure(c(-0.508829023881783, -0.655215955364917, :\n",
            "“k = 49 exceeds number 25 of patterns”\n",
            "Warning message in knnregTrain(train = structure(c(-0.508829023881783, -0.655215955364917, :\n",
            "“k = 50 exceeds number 25 of patterns”\n",
            "Warning message in knnregTrain(train = structure(c(-0.508829023881783, -0.655215955364917, :\n",
            "“k = 51 exceeds number 25 of patterns”\n",
            "Warning message in knnregTrain(train = structure(c(-0.508829023881783, -0.655215955364917, :\n",
            "“k = 52 exceeds number 25 of patterns”\n",
            "Warning message in knnregTrain(train = structure(c(-0.508829023881783, -0.655215955364917, :\n",
            "“k = 53 exceeds number 25 of patterns”\n",
            "Warning message in knnregTrain(train = structure(c(-0.508829023881783, -0.655215955364917, :\n",
            "“k = 54 exceeds number 25 of patterns”\n",
            "Warning message in knnregTrain(train = structure(c(-0.508829023881783, -0.655215955364917, :\n",
            "“k = 55 exceeds number 25 of patterns”\n",
            "Warning message in knnregTrain(train = structure(c(-0.508829023881783, -0.655215955364917, :\n",
            "“k = 56 exceeds number 25 of patterns”\n",
            "Warning message in knnregTrain(train = structure(c(-0.508829023881783, -0.655215955364917, :\n",
            "“k = 57 exceeds number 25 of patterns”\n",
            "Warning message in knnregTrain(train = structure(c(-0.508829023881783, -0.655215955364917, :\n",
            "“k = 58 exceeds number 25 of patterns”\n",
            "Warning message in knnregTrain(train = structure(c(-0.508829023881783, -0.655215955364917, :\n",
            "“k = 59 exceeds number 25 of patterns”\n",
            "Warning message in knnregTrain(train = structure(c(-0.508829023881783, -0.655215955364917, :\n",
            "“k = 60 exceeds number 25 of patterns”\n",
            "Warning message in knnregTrain(train = structure(c(-0.508829023881783, -0.655215955364917, :\n",
            "“k = 61 exceeds number 25 of patterns”\n",
            "Warning message in knnregTrain(train = structure(c(-0.508829023881783, -0.655215955364917, :\n",
            "“k = 62 exceeds number 25 of patterns”\n",
            "Warning message in knnregTrain(train = structure(c(-0.508829023881783, -0.655215955364917, :\n",
            "“k = 63 exceeds number 25 of patterns”\n",
            "Warning message in knnregTrain(train = structure(c(-0.508829023881783, -0.655215955364917, :\n",
            "“k = 64 exceeds number 25 of patterns”\n",
            "Warning message in knnregTrain(train = structure(c(-0.508829023881783, -0.655215955364917, :\n",
            "“k = 65 exceeds number 25 of patterns”\n",
            "Warning message in knnregTrain(train = structure(c(-0.508829023881783, -0.655215955364917, :\n",
            "“k = 66 exceeds number 25 of patterns”\n",
            "Warning message in knnregTrain(train = structure(c(-0.508829023881783, -0.655215955364917, :\n",
            "“k = 67 exceeds number 25 of patterns”\n",
            "Warning message in knnregTrain(train = structure(c(-0.508829023881783, -0.655215955364917, :\n",
            "“k = 68 exceeds number 25 of patterns”\n",
            "Warning message in knnregTrain(train = structure(c(-0.508829023881783, -0.655215955364917, :\n",
            "“k = 69 exceeds number 25 of patterns”\n",
            "Warning message in knnregTrain(train = structure(c(-0.508829023881783, -0.655215955364917, :\n",
            "“k = 70 exceeds number 25 of patterns”\n",
            "Warning message in knnregTrain(train = structure(c(-0.339262306311427, -0.725771495966262, :\n",
            "“k = 26 exceeds number 25 of patterns”\n",
            "Warning message in knnregTrain(train = structure(c(-0.339262306311427, -0.725771495966262, :\n",
            "“k = 27 exceeds number 25 of patterns”\n",
            "Warning message in knnregTrain(train = structure(c(-0.339262306311427, -0.725771495966262, :\n",
            "“k = 28 exceeds number 25 of patterns”\n",
            "Warning message in knnregTrain(train = structure(c(-0.339262306311427, -0.725771495966262, :\n",
            "“k = 29 exceeds number 25 of patterns”\n",
            "Warning message in knnregTrain(train = structure(c(-0.339262306311427, -0.725771495966262, :\n",
            "“k = 30 exceeds number 25 of patterns”\n",
            "Warning message in knnregTrain(train = structure(c(-0.339262306311427, -0.725771495966262, :\n",
            "“k = 31 exceeds number 25 of patterns”\n",
            "Warning message in knnregTrain(train = structure(c(-0.339262306311427, -0.725771495966262, :\n",
            "“k = 32 exceeds number 25 of patterns”\n",
            "Warning message in knnregTrain(train = structure(c(-0.339262306311427, -0.725771495966262, :\n",
            "“k = 33 exceeds number 25 of patterns”\n",
            "Warning message in knnregTrain(train = structure(c(-0.339262306311427, -0.725771495966262, :\n",
            "“k = 34 exceeds number 25 of patterns”\n",
            "Warning message in knnregTrain(train = structure(c(-0.339262306311427, -0.725771495966262, :\n",
            "“k = 35 exceeds number 25 of patterns”\n",
            "Warning message in knnregTrain(train = structure(c(-0.339262306311427, -0.725771495966262, :\n",
            "“k = 36 exceeds number 25 of patterns”\n",
            "Warning message in knnregTrain(train = structure(c(-0.339262306311427, -0.725771495966262, :\n",
            "“k = 37 exceeds number 25 of patterns”\n",
            "Warning message in knnregTrain(train = structure(c(-0.339262306311427, -0.725771495966262, :\n",
            "“k = 38 exceeds number 25 of patterns”\n",
            "Warning message in knnregTrain(train = structure(c(-0.339262306311427, -0.725771495966262, :\n",
            "“k = 39 exceeds number 25 of patterns”\n",
            "Warning message in knnregTrain(train = structure(c(-0.339262306311427, -0.725771495966262, :\n",
            "“k = 40 exceeds number 25 of patterns”\n",
            "Warning message in knnregTrain(train = structure(c(-0.339262306311427, -0.725771495966262, :\n",
            "“k = 41 exceeds number 25 of patterns”\n",
            "Warning message in knnregTrain(train = structure(c(-0.339262306311427, -0.725771495966262, :\n",
            "“k = 42 exceeds number 25 of patterns”\n",
            "Warning message in knnregTrain(train = structure(c(-0.339262306311427, -0.725771495966262, :\n",
            "“k = 43 exceeds number 25 of patterns”\n",
            "Warning message in knnregTrain(train = structure(c(-0.339262306311427, -0.725771495966262, :\n",
            "“k = 44 exceeds number 25 of patterns”\n",
            "Warning message in knnregTrain(train = structure(c(-0.339262306311427, -0.725771495966262, :\n",
            "“k = 45 exceeds number 25 of patterns”\n",
            "Warning message in knnregTrain(train = structure(c(-0.339262306311427, -0.725771495966262, :\n",
            "“k = 46 exceeds number 25 of patterns”\n",
            "Warning message in knnregTrain(train = structure(c(-0.339262306311427, -0.725771495966262, :\n",
            "“k = 47 exceeds number 25 of patterns”\n",
            "Warning message in knnregTrain(train = structure(c(-0.339262306311427, -0.725771495966262, :\n",
            "“k = 48 exceeds number 25 of patterns”\n",
            "Warning message in knnregTrain(train = structure(c(-0.339262306311427, -0.725771495966262, :\n",
            "“k = 49 exceeds number 25 of patterns”\n",
            "Warning message in knnregTrain(train = structure(c(-0.339262306311427, -0.725771495966262, :\n",
            "“k = 50 exceeds number 25 of patterns”\n",
            "Warning message in knnregTrain(train = structure(c(-0.339262306311427, -0.725771495966262, :\n",
            "“k = 51 exceeds number 25 of patterns”\n",
            "Warning message in knnregTrain(train = structure(c(-0.339262306311427, -0.725771495966262, :\n",
            "“k = 52 exceeds number 25 of patterns”\n",
            "Warning message in knnregTrain(train = structure(c(-0.339262306311427, -0.725771495966262, :\n",
            "“k = 53 exceeds number 25 of patterns”\n",
            "Warning message in knnregTrain(train = structure(c(-0.339262306311427, -0.725771495966262, :\n",
            "“k = 54 exceeds number 25 of patterns”\n",
            "Warning message in knnregTrain(train = structure(c(-0.339262306311427, -0.725771495966262, :\n",
            "“k = 55 exceeds number 25 of patterns”\n",
            "Warning message in knnregTrain(train = structure(c(-0.339262306311427, -0.725771495966262, :\n",
            "“k = 56 exceeds number 25 of patterns”\n",
            "Warning message in knnregTrain(train = structure(c(-0.339262306311427, -0.725771495966262, :\n",
            "“k = 57 exceeds number 25 of patterns”\n",
            "Warning message in knnregTrain(train = structure(c(-0.339262306311427, -0.725771495966262, :\n",
            "“k = 58 exceeds number 25 of patterns”\n",
            "Warning message in knnregTrain(train = structure(c(-0.339262306311427, -0.725771495966262, :\n",
            "“k = 59 exceeds number 25 of patterns”\n",
            "Warning message in knnregTrain(train = structure(c(-0.339262306311427, -0.725771495966262, :\n",
            "“k = 60 exceeds number 25 of patterns”\n",
            "Warning message in knnregTrain(train = structure(c(-0.339262306311427, -0.725771495966262, :\n",
            "“k = 61 exceeds number 25 of patterns”\n",
            "Warning message in knnregTrain(train = structure(c(-0.339262306311427, -0.725771495966262, :\n",
            "“k = 62 exceeds number 25 of patterns”\n",
            "Warning message in knnregTrain(train = structure(c(-0.339262306311427, -0.725771495966262, :\n",
            "“k = 63 exceeds number 25 of patterns”\n",
            "Warning message in knnregTrain(train = structure(c(-0.339262306311427, -0.725771495966262, :\n",
            "“k = 64 exceeds number 25 of patterns”\n",
            "Warning message in knnregTrain(train = structure(c(-0.339262306311427, -0.725771495966262, :\n",
            "“k = 65 exceeds number 25 of patterns”\n",
            "Warning message in knnregTrain(train = structure(c(-0.339262306311427, -0.725771495966262, :\n",
            "“k = 66 exceeds number 25 of patterns”\n",
            "Warning message in knnregTrain(train = structure(c(-0.339262306311427, -0.725771495966262, :\n",
            "“k = 67 exceeds number 25 of patterns”\n",
            "Warning message in knnregTrain(train = structure(c(-0.339262306311427, -0.725771495966262, :\n",
            "“k = 68 exceeds number 25 of patterns”\n",
            "Warning message in knnregTrain(train = structure(c(-0.339262306311427, -0.725771495966262, :\n",
            "“k = 69 exceeds number 25 of patterns”\n",
            "Warning message in knnregTrain(train = structure(c(-0.339262306311427, -0.725771495966262, :\n",
            "“k = 70 exceeds number 25 of patterns”\n"
          ]
        },
        {
          "output_type": "display_data",
          "data": {
            "text/plain": [
              "k-Nearest Neighbors \n",
              "\n",
              "37 samples\n",
              " 6 predictor\n",
              "\n",
              "Pre-processing: centered (6), scaled (6) \n",
              "Resampling: Cross-Validated (3 fold) \n",
              "Summary of sample sizes: 24, 25, 25 \n",
              "Resampling results across tuning parameters:\n",
              "\n",
              "  k   RMSE       Rsquared   MAE      \n",
              "   1  0.5410233  0.5837141  0.3732906\n",
              "   2  0.4185748  0.6107329  0.2972222\n",
              "   3  0.3822836  0.6603532  0.2815527\n",
              "   4  0.4124864  0.6264202  0.2981303\n",
              "   5  0.4171048  0.6222855  0.3182051\n",
              "   6  0.3820980  0.6761884  0.2925926\n",
              "   7  0.3969783  0.6400515  0.3163919\n",
              "   8  0.4140324  0.6037733  0.3355858\n",
              "   9  0.4110297  0.6228104  0.3339269\n",
              "  10  0.4209806  0.6014594  0.3436966\n",
              "  11  0.4242783  0.6147717  0.3479798\n",
              "  12  0.4457229  0.5739332  0.3702279\n",
              "  13  0.4512891  0.5752528  0.3737344\n",
              "  14  0.4578285  0.5727600  0.3746490\n",
              "  15  0.4706572  0.5758970  0.3843447\n",
              "  16  0.4794506  0.5684324  0.3850294\n",
              "  17  0.4951405  0.5437791  0.3959527\n",
              "  18  0.5041272  0.5763572  0.3994539\n",
              "  19  0.5282424  0.5831635  0.4206590\n",
              "  20  0.5461342  0.5812656  0.4331624\n",
              "  21  0.5646009  0.5642688  0.4499288\n",
              "  22  0.5911137  0.6337324  0.4763598\n",
              "  23  0.6133267  0.5580449  0.4998514\n",
              "  24  0.6262117  0.4445703  0.5130876\n",
              "  25  0.6337066  0.1668545  0.5193376\n",
              "  26  0.6337066  0.1668545  0.5193376\n",
              "  27  0.6337066  0.1668545  0.5193376\n",
              "  28  0.6337066  0.1668545  0.5193376\n",
              "  29  0.6337066  0.1668545  0.5193376\n",
              "  30  0.6337066  0.1668545  0.5193376\n",
              "  31  0.6337066  0.1668545  0.5193376\n",
              "  32  0.6337066  0.1668545  0.5193376\n",
              "  33  0.6337066  0.1668545  0.5193376\n",
              "  34  0.6337066  0.1668545  0.5193376\n",
              "  35  0.6337066  0.1668545  0.5193376\n",
              "  36  0.6337066  0.1668545  0.5193376\n",
              "  37  0.6337066  0.1668545  0.5193376\n",
              "  38  0.6337066  0.1668545  0.5193376\n",
              "  39  0.6337066  0.1668545  0.5193376\n",
              "  40  0.6337066  0.1668545  0.5193376\n",
              "  41  0.6337066  0.1668545  0.5193376\n",
              "  42  0.6337066  0.1668545  0.5193376\n",
              "  43  0.6337066  0.1668545  0.5193376\n",
              "  44  0.6337066  0.1668545  0.5193376\n",
              "  45  0.6337066  0.1668545  0.5193376\n",
              "  46  0.6337066  0.1668545  0.5193376\n",
              "  47  0.6337066  0.1668545  0.5193376\n",
              "  48  0.6337066  0.1668545  0.5193376\n",
              "  49  0.6337066  0.1668545  0.5193376\n",
              "  50  0.6337066  0.1668545  0.5193376\n",
              "  51  0.6337066  0.1668545  0.5193376\n",
              "  52  0.6337066  0.1668545  0.5193376\n",
              "  53  0.6337066  0.1668545  0.5193376\n",
              "  54  0.6337066  0.1668545  0.5193376\n",
              "  55  0.6337066  0.1668545  0.5193376\n",
              "  56  0.6337066  0.1668545  0.5193376\n",
              "  57  0.6337066  0.1668545  0.5193376\n",
              "  58  0.6337066  0.1668545  0.5193376\n",
              "  59  0.6337066  0.1668545  0.5193376\n",
              "  60  0.6337066  0.1668545  0.5193376\n",
              "  61  0.6337066  0.1668545  0.5193376\n",
              "  62  0.6337066  0.1668545  0.5193376\n",
              "  63  0.6337066  0.1668545  0.5193376\n",
              "  64  0.6337066  0.1668545  0.5193376\n",
              "  65  0.6337066  0.1668545  0.5193376\n",
              "  66  0.6337066  0.1668545  0.5193376\n",
              "  67  0.6337066  0.1668545  0.5193376\n",
              "  68  0.6337066  0.1668545  0.5193376\n",
              "  69  0.6337066  0.1668545  0.5193376\n",
              "  70  0.6337066  0.1668545  0.5193376\n",
              "\n",
              "RMSE was used to select the optimal model using the smallest value.\n",
              "The final value used for the model was k = 6."
            ]
          },
          "metadata": {}
        }
      ],
      "source": [
        "# knn with k = 3\n",
        "trControl <- trainControl(method = \"cv\", number = 3)\n",
        "set.seed(333)\n",
        "fitknn <- train(involact~., data= data.train, tuneGrid = expand.grid(k=1:70),method = \"knn\", trControl = trControl, preProc = c(\"center\", \"scale\"))\n",
        "fitknn"
      ]
    },
    {
      "cell_type": "code",
      "execution_count": null,
      "metadata": {
        "colab": {
          "base_uri": "https://localhost:8080/",
          "height": 593
        },
        "id": "L5B33rGdAZwB",
        "outputId": "34866bb6-6f1e-4633-eb5b-ef754eebb5b7"
      },
      "outputs": [
        {
          "output_type": "display_data",
          "data": {
            "text/plain": [
              "loess r-squared variable importance\n",
              "\n",
              "       Overall\n",
              "fire   100.000\n",
              "volact  76.035\n",
              "race    63.775\n",
              "income  60.826\n",
              "theft    5.169\n",
              "age      0.000"
            ]
          },
          "metadata": {}
        },
        {
          "output_type": "display_data",
          "data": {
            "text/plain": [
              "plot without title"
            ],
            "image/png": "[encoded data removed]"
          },
          "metadata": {
            "image/png": {
              "width": 420,
              "height": 420
            }
          }
        }
      ],
      "source": [
        "plot(fitknn)\n",
        "varImp(fitknn)"
      ]
    },
    {
      "cell_type": "markdown",
      "metadata": {
        "id": "Rsv6Uqe_HmNc"
      },
      "source": [
        "## selección de modelo de acuerdo a RMSE Y R2"
      ]
    },
    {
      "cell_type": "markdown",
      "metadata": {
        "id": "7Nf86mpwHxsE"
      },
      "source": [
        "**knn con k = 6**\n",
        "\n",
        "   - RMSE =  0.3820980 \n",
        "\n",
        "   - Rsquared = 0.6761884 \n",
        "\n",
        "**linear regression**\n",
        "\n",
        "   - RMSE =  0.4816685      \n",
        "   - Rsquared  = 0.5240542 \n",
        "\n",
        "\n",
        "**Por lo tanto se selecciona knn con k= 6**"
      ]
    },
    {
      "cell_type": "markdown",
      "metadata": {
        "id": "zefXEZdhteZ_"
      },
      "source": [
        "## Para el modelo seleccionado en el paso anterior, ajuste los parámetros con toda la muestra de entrenamiento y utilice la muestra test para medir la calidad del ajuste. Comente los resultados"
      ]
    },
    {
      "cell_type": "code",
      "execution_count": null,
      "metadata": {
        "colab": {
          "base_uri": "https://localhost:8080/",
          "height": 429
        },
        "id": "f4xOW5wlJUmJ",
        "outputId": "49aa638e-2c7f-4733-ce7c-230d6f9b81fb"
      },
      "outputs": [
        {
          "output_type": "display_data",
          "data": {
            "text/html": [
              "<style>\n",
              ".list-inline {list-style: none; margin:0; padding: 0}\n",
              ".list-inline>li {display: inline-block}\n",
              ".list-inline>li:not(:last-child)::after {content: \"\\00b7\"; padding: 0 .5ex}\n",
              "</style>\n",
              "<ol class=list-inline><li>0.6</li><li>0.0833333333333333</li><li>0</li><li>0.483333333333333</li><li>1.28333333333333</li><li>0.15</li><li>1.56666666666667</li><li>1.33333333333333</li><li>0.616666666666667</li><li>0.133333333333333</li></ol>\n"
            ],
            "text/markdown": "1. 0.6\n2. 0.0833333333333333\n3. 0\n4. 0.483333333333333\n5. 1.28333333333333\n6. 0.15\n7. 1.56666666666667\n8. 1.33333333333333\n9. 0.616666666666667\n10. 0.133333333333333\n\n\n",
            "text/latex": "\\begin{enumerate*}\n\\item 0.6\n\\item 0.0833333333333333\n\\item 0\n\\item 0.483333333333333\n\\item 1.28333333333333\n\\item 0.15\n\\item 1.56666666666667\n\\item 1.33333333333333\n\\item 0.616666666666667\n\\item 0.133333333333333\n\\end{enumerate*}\n",
            "text/plain": [
              " [1] 0.60000000 0.08333333 0.00000000 0.48333333 1.28333333 0.15000000\n",
              " [7] 1.56666667 1.33333333 0.61666667 0.13333333"
            ]
          },
          "metadata": {}
        },
        {
          "output_type": "display_data",
          "data": {
            "text/html": [
              "<table class=\"dataframe\">\n",
              "<caption>A data.frame: 10 × 7</caption>\n",
              "<thead>\n",
              "\t<tr><th></th><th scope=col>race</th><th scope=col>fire</th><th scope=col>theft</th><th scope=col>age</th><th scope=col>volact</th><th scope=col>involact</th><th scope=col>income</th></tr>\n",
              "\t<tr><th></th><th scope=col>&lt;dbl&gt;</th><th scope=col>&lt;dbl&gt;</th><th scope=col>&lt;dbl&gt;</th><th scope=col>&lt;dbl&gt;</th><th scope=col>&lt;dbl&gt;</th><th scope=col>&lt;dbl&gt;</th><th scope=col>&lt;dbl&gt;</th></tr>\n",
              "</thead>\n",
              "<tbody>\n",
              "\t<tr><th scope=row>60626</th><td>10.0</td><td> 6.2</td><td>29</td><td>60.4</td><td> 5.3</td><td>0.0</td><td>11744</td></tr>\n",
              "\t<tr><th scope=row>60611</th><td> 4.9</td><td>11.0</td><td>75</td><td>42.6</td><td> 7.9</td><td>0.0</td><td>21480</td></tr>\n",
              "\t<tr><th scope=row>60656</th><td> 1.7</td><td> 2.0</td><td>11</td><td> 7.7</td><td>10.9</td><td>0.0</td><td>13686</td></tr>\n",
              "\t<tr><th scope=row>60639</th><td> 2.5</td><td> 7.2</td><td>29</td><td>84.2</td><td> 8.5</td><td>0.2</td><td>11084</td></tr>\n",
              "\t<tr><th scope=row>60624</th><td>94.4</td><td>18.4</td><td>32</td><td>72.9</td><td> 1.2</td><td>1.8</td><td> 7342</td></tr>\n",
              "\t<tr><th scope=row>60632</th><td> 4.4</td><td> 5.6</td><td>23</td><td>71.5</td><td> 8.0</td><td>0.3</td><td>11230</td></tr>\n",
              "\t<tr><th scope=row>60609</th><td>46.2</td><td>21.8</td><td> 4</td><td>73.1</td><td> 2.6</td><td>1.3</td><td> 8330</td></tr>\n",
              "\t<tr><th scope=row>60636</th><td>48.8</td><td>28.6</td><td>27</td><td>78.1</td><td> 4.0</td><td>1.4</td><td> 9742</td></tr>\n",
              "\t<tr><th scope=row>60649</th><td>66.1</td><td>10.7</td><td>43</td><td>67.5</td><td> 3.1</td><td>0.4</td><td>10908</td></tr>\n",
              "\t<tr><th scope=row>60627</th><td>47.4</td><td> 7.0</td><td> 3</td><td>11.4</td><td> 7.7</td><td>0.2</td><td>10080</td></tr>\n",
              "</tbody>\n",
              "</table>\n"
            ],
            "text/markdown": "\nA data.frame: 10 × 7\n\n| <!--/--> | race &lt;dbl&gt; | fire &lt;dbl&gt; | theft &lt;dbl&gt; | age &lt;dbl&gt; | volact &lt;dbl&gt; | involact &lt;dbl&gt; | income &lt;dbl&gt; |\n|---|---|---|---|---|---|---|---|\n| 60626 | 10.0 |  6.2 | 29 | 60.4 |  5.3 | 0.0 | 11744 |\n| 60611 |  4.9 | 11.0 | 75 | 42.6 |  7.9 | 0.0 | 21480 |\n| 60656 |  1.7 |  2.0 | 11 |  7.7 | 10.9 | 0.0 | 13686 |\n| 60639 |  2.5 |  7.2 | 29 | 84.2 |  8.5 | 0.2 | 11084 |\n| 60624 | 94.4 | 18.4 | 32 | 72.9 |  1.2 | 1.8 |  7342 |\n| 60632 |  4.4 |  5.6 | 23 | 71.5 |  8.0 | 0.3 | 11230 |\n| 60609 | 46.2 | 21.8 |  4 | 73.1 |  2.6 | 1.3 |  8330 |\n| 60636 | 48.8 | 28.6 | 27 | 78.1 |  4.0 | 1.4 |  9742 |\n| 60649 | 66.1 | 10.7 | 43 | 67.5 |  3.1 | 0.4 | 10908 |\n| 60627 | 47.4 |  7.0 |  3 | 11.4 |  7.7 | 0.2 | 10080 |\n\n",
            "text/latex": "A data.frame: 10 × 7\n\\begin{tabular}{r|lllllll}\n  & race & fire & theft & age & volact & involact & income\\\\\n  & <dbl> & <dbl> & <dbl> & <dbl> & <dbl> & <dbl> & <dbl>\\\\\n\\hline\n\t60626 & 10.0 &  6.2 & 29 & 60.4 &  5.3 & 0.0 & 11744\\\\\n\t60611 &  4.9 & 11.0 & 75 & 42.6 &  7.9 & 0.0 & 21480\\\\\n\t60656 &  1.7 &  2.0 & 11 &  7.7 & 10.9 & 0.0 & 13686\\\\\n\t60639 &  2.5 &  7.2 & 29 & 84.2 &  8.5 & 0.2 & 11084\\\\\n\t60624 & 94.4 & 18.4 & 32 & 72.9 &  1.2 & 1.8 &  7342\\\\\n\t60632 &  4.4 &  5.6 & 23 & 71.5 &  8.0 & 0.3 & 11230\\\\\n\t60609 & 46.2 & 21.8 &  4 & 73.1 &  2.6 & 1.3 &  8330\\\\\n\t60636 & 48.8 & 28.6 & 27 & 78.1 &  4.0 & 1.4 &  9742\\\\\n\t60649 & 66.1 & 10.7 & 43 & 67.5 &  3.1 & 0.4 & 10908\\\\\n\t60627 & 47.4 &  7.0 &  3 & 11.4 &  7.7 & 0.2 & 10080\\\\\n\\end{tabular}\n",
            "text/plain": [
              "      race fire theft age  volact involact income\n",
              "60626 10.0  6.2 29    60.4  5.3   0.0      11744 \n",
              "60611  4.9 11.0 75    42.6  7.9   0.0      21480 \n",
              "60656  1.7  2.0 11     7.7 10.9   0.0      13686 \n",
              "60639  2.5  7.2 29    84.2  8.5   0.2      11084 \n",
              "60624 94.4 18.4 32    72.9  1.2   1.8       7342 \n",
              "60632  4.4  5.6 23    71.5  8.0   0.3      11230 \n",
              "60609 46.2 21.8  4    73.1  2.6   1.3       8330 \n",
              "60636 48.8 28.6 27    78.1  4.0   1.4       9742 \n",
              "60649 66.1 10.7 43    67.5  3.1   0.4      10908 \n",
              "60627 47.4  7.0  3    11.4  7.7   0.2      10080 "
            ]
          },
          "metadata": {}
        }
      ],
      "source": [
        "test <- scale(data.test)\n",
        "pred <-predict(fitknn,newdata=data.test)\n",
        "pred\n",
        "data.test\n"
      ]
    },
    {
      "cell_type": "markdown",
      "metadata": {
        "id": "tzwUVOwbYsXl"
      },
      "source": [
        "### el rmse es mas bajo que en kfolds y se ve que se ajusta de buena manera a los datos de test."
      ]
    },
    {
      "cell_type": "code",
      "execution_count": null,
      "metadata": {
        "colab": {
          "base_uri": "https://localhost:8080/",
          "height": 454
        },
        "id": "RmmTZRHWJUge",
        "outputId": "98b82a83-bff0-496f-9eb0-69e1780d4905"
      },
      "outputs": [
        {
          "output_type": "display_data",
          "data": {
            "text/html": [
              "0.293872610345216"
            ],
            "text/markdown": "0.293872610345216",
            "text/latex": "0.293872610345216",
            "text/plain": [
              "[1] 0.2938726"
            ]
          },
          "metadata": {}
        },
        {
          "output_type": "display_data",
          "data": {
            "text/plain": [
              "plot without title"
            ],
            "image/png": "[encoded data removed]"
          },
          "metadata": {
            "image/png": {
              "width": 420,
              "height": 420
            }
          }
        }
      ],
      "source": [
        "RMSE(pred,data.test$involact )\n",
        "plot(pred,data.test$involact )"
      ]
    },
    {
      "cell_type": "code",
      "execution_count": null,
      "metadata": {
        "colab": {
          "base_uri": "https://localhost:8080/",
          "height": 34
        },
        "id": "eFWCnuqYJUbJ",
        "outputId": "a6a066bb-ff2c-45b1-b1a1-bb1baf4af237"
      },
      "outputs": [
        {
          "output_type": "display_data",
          "data": {
            "text/plain": [
              "6-nearest neighbor regression model"
            ]
          },
          "metadata": {}
        }
      ],
      "source": [
        "fitknn$finalModel"
      ]
    },
    {
      "cell_type": "markdown",
      "metadata": {
        "id": "QZFWK8B0_oBL"
      },
      "source": [
        "# **Pregunta parte 2**:  \n",
        "Utilice el conjunto de datos “wbca” disponibles en la libreria“faraway”. Además, considere Y = Class como la variable respuesta, todas las demás serán variables explicativas.\n"
      ]
    },
    {
      "cell_type": "markdown",
      "metadata": {
        "id": "YvknyTD6_4ix"
      },
      "source": [
        "## **2.1**:\n",
        " Realizar una separación aleatoria de la data original, donde la muestra de entrenamiento considera el 80% y la muestra test considera el 20%. Reservar la muestra test para el final.\n"
      ]
    },
    {
      "cell_type": "code",
      "execution_count": null,
      "metadata": {
        "colab": {
          "base_uri": "https://localhost:8080/",
          "height": 321
        },
        "id": "B3BqNqKqBY7F",
        "outputId": "6c68748c-5a6d-4322-8f80-5ac2fe3717cd"
      },
      "outputs": [
        {
          "output_type": "display_data",
          "data": {
            "text/html": [
              "<table class=\"dataframe\">\n",
              "<caption>A data.frame: 6 × 10</caption>\n",
              "<thead>\n",
              "\t<tr><th></th><th scope=col>Class</th><th scope=col>Adhes</th><th scope=col>BNucl</th><th scope=col>Chrom</th><th scope=col>Epith</th><th scope=col>Mitos</th><th scope=col>NNucl</th><th scope=col>Thick</th><th scope=col>UShap</th><th scope=col>USize</th></tr>\n",
              "\t<tr><th></th><th scope=col>&lt;int&gt;</th><th scope=col>&lt;int&gt;</th><th scope=col>&lt;int&gt;</th><th scope=col>&lt;int&gt;</th><th scope=col>&lt;int&gt;</th><th scope=col>&lt;int&gt;</th><th scope=col>&lt;int&gt;</th><th scope=col>&lt;int&gt;</th><th scope=col>&lt;int&gt;</th><th scope=col>&lt;int&gt;</th></tr>\n",
              "</thead>\n",
              "<tbody>\n",
              "\t<tr><th scope=row>1</th><td>1</td><td>1</td><td> 1</td><td>3</td><td>2</td><td>1</td><td>1</td><td>5</td><td> 1</td><td> 1</td></tr>\n",
              "\t<tr><th scope=row>2</th><td>1</td><td>5</td><td>10</td><td>3</td><td>7</td><td>1</td><td>2</td><td>5</td><td> 4</td><td> 4</td></tr>\n",
              "\t<tr><th scope=row>3</th><td>1</td><td>1</td><td> 2</td><td>3</td><td>2</td><td>1</td><td>1</td><td>3</td><td> 1</td><td> 1</td></tr>\n",
              "\t<tr><th scope=row>4</th><td>1</td><td>1</td><td> 4</td><td>3</td><td>3</td><td>1</td><td>7</td><td>6</td><td> 8</td><td> 8</td></tr>\n",
              "\t<tr><th scope=row>5</th><td>1</td><td>3</td><td> 1</td><td>3</td><td>2</td><td>1</td><td>1</td><td>4</td><td> 1</td><td> 1</td></tr>\n",
              "\t<tr><th scope=row>6</th><td>0</td><td>8</td><td>10</td><td>9</td><td>7</td><td>1</td><td>7</td><td>8</td><td>10</td><td>10</td></tr>\n",
              "</tbody>\n",
              "</table>\n"
            ],
            "text/markdown": "\nA data.frame: 6 × 10\n\n| <!--/--> | Class &lt;int&gt; | Adhes &lt;int&gt; | BNucl &lt;int&gt; | Chrom &lt;int&gt; | Epith &lt;int&gt; | Mitos &lt;int&gt; | NNucl &lt;int&gt; | Thick &lt;int&gt; | UShap &lt;int&gt; | USize &lt;int&gt; |\n|---|---|---|---|---|---|---|---|---|---|---|\n| 1 | 1 | 1 |  1 | 3 | 2 | 1 | 1 | 5 |  1 |  1 |\n| 2 | 1 | 5 | 10 | 3 | 7 | 1 | 2 | 5 |  4 |  4 |\n| 3 | 1 | 1 |  2 | 3 | 2 | 1 | 1 | 3 |  1 |  1 |\n| 4 | 1 | 1 |  4 | 3 | 3 | 1 | 7 | 6 |  8 |  8 |\n| 5 | 1 | 3 |  1 | 3 | 2 | 1 | 1 | 4 |  1 |  1 |\n| 6 | 0 | 8 | 10 | 9 | 7 | 1 | 7 | 8 | 10 | 10 |\n\n",
            "text/latex": "A data.frame: 6 × 10\n\\begin{tabular}{r|llllllllll}\n  & Class & Adhes & BNucl & Chrom & Epith & Mitos & NNucl & Thick & UShap & USize\\\\\n  & <int> & <int> & <int> & <int> & <int> & <int> & <int> & <int> & <int> & <int>\\\\\n\\hline\n\t1 & 1 & 1 &  1 & 3 & 2 & 1 & 1 & 5 &  1 &  1\\\\\n\t2 & 1 & 5 & 10 & 3 & 7 & 1 & 2 & 5 &  4 &  4\\\\\n\t3 & 1 & 1 &  2 & 3 & 2 & 1 & 1 & 3 &  1 &  1\\\\\n\t4 & 1 & 1 &  4 & 3 & 3 & 1 & 7 & 6 &  8 &  8\\\\\n\t5 & 1 & 3 &  1 & 3 & 2 & 1 & 1 & 4 &  1 &  1\\\\\n\t6 & 0 & 8 & 10 & 9 & 7 & 1 & 7 & 8 & 10 & 10\\\\\n\\end{tabular}\n",
            "text/plain": [
              "  Class Adhes BNucl Chrom Epith Mitos NNucl Thick UShap USize\n",
              "1 1     1      1    3     2     1     1     5      1     1   \n",
              "2 1     5     10    3     7     1     2     5      4     4   \n",
              "3 1     1      2    3     2     1     1     3      1     1   \n",
              "4 1     1      4    3     3     1     7     6      8     8   \n",
              "5 1     3      1    3     2     1     1     4      1     1   \n",
              "6 0     8     10    9     7     1     7     8     10    10   "
            ]
          },
          "metadata": {}
        },
        {
          "output_type": "display_data",
          "data": {
            "text/html": [
              "<style>\n",
              ".list-inline {list-style: none; margin:0; padding: 0}\n",
              ".list-inline>li {display: inline-block}\n",
              ".list-inline>li:not(:last-child)::after {content: \"\\00b7\"; padding: 0 .5ex}\n",
              "</style>\n",
              "<ol class=list-inline><li>'Class'</li><li>'Adhes'</li><li>'BNucl'</li><li>'Chrom'</li><li>'Epith'</li><li>'Mitos'</li><li>'NNucl'</li><li>'Thick'</li><li>'UShap'</li><li>'USize'</li></ol>\n"
            ],
            "text/markdown": "1. 'Class'\n2. 'Adhes'\n3. 'BNucl'\n4. 'Chrom'\n5. 'Epith'\n6. 'Mitos'\n7. 'NNucl'\n8. 'Thick'\n9. 'UShap'\n10. 'USize'\n\n\n",
            "text/latex": "\\begin{enumerate*}\n\\item 'Class'\n\\item 'Adhes'\n\\item 'BNucl'\n\\item 'Chrom'\n\\item 'Epith'\n\\item 'Mitos'\n\\item 'NNucl'\n\\item 'Thick'\n\\item 'UShap'\n\\item 'USize'\n\\end{enumerate*}\n",
            "text/plain": [
              " [1] \"Class\" \"Adhes\" \"BNucl\" \"Chrom\" \"Epith\" \"Mitos\" \"NNucl\" \"Thick\" \"UShap\"\n",
              "[10] \"USize\""
            ]
          },
          "metadata": {}
        },
        {
          "output_type": "display_data",
          "data": {
            "text/html": [
              "<style>\n",
              ".list-inline {list-style: none; margin:0; padding: 0}\n",
              ".list-inline>li {display: inline-block}\n",
              ".list-inline>li:not(:last-child)::after {content: \"\\00b7\"; padding: 0 .5ex}\n",
              "</style>\n",
              "<ol class=list-inline><li>681</li><li>10</li></ol>\n"
            ],
            "text/markdown": "1. 681\n2. 10\n\n\n",
            "text/latex": "\\begin{enumerate*}\n\\item 681\n\\item 10\n\\end{enumerate*}\n",
            "text/plain": [
              "[1] 681  10"
            ]
          },
          "metadata": {}
        }
      ],
      "source": [
        "# Cargar y comprender datos iniciales\n",
        "?wbca\n",
        "head(wbca)\n",
        "names(wbca)\n",
        "dim(wbca)\n",
        "#plot(faraway::wbca)"
      ]
    },
    {
      "cell_type": "code",
      "execution_count": null,
      "metadata": {
        "colab": {
          "base_uri": "https://localhost:8080/",
          "height": 52
        },
        "id": "8IHkfRh-1jsU",
        "outputId": "4cbb0a71-91ac-44f1-f494-2cc7e6d15480"
      },
      "outputs": [
        {
          "output_type": "display_data",
          "data": {
            "text/html": [
              "<style>\n",
              ".dl-inline {width: auto; margin:0; padding: 0}\n",
              ".dl-inline>dt, .dl-inline>dd {float: none; width: auto; display: inline-block}\n",
              ".dl-inline>dt::after {content: \":\\0020\"; padding-right: .5ex}\n",
              ".dl-inline>dt:not(:first-of-type) {padding-left: .5ex}\n",
              "</style><dl class=dl-inline><dt>race</dt><dd>4.22855359170829</dd><dt>fire</dt><dd>4.53836173252361</dd><dt>theft</dt><dd>2.5220472493976</dd><dt>age</dt><dd>2.74630248794293</dd><dt>volact</dt><dd>7.77156340765284</dd><dt>involact</dt><dd>3.58273635598869</dd><dt>income</dt><dd>8.11238704437322</dd></dl>\n"
            ],
            "text/markdown": "race\n:   4.22855359170829fire\n:   4.53836173252361theft\n:   2.5220472493976age\n:   2.74630248794293volact\n:   7.77156340765284involact\n:   3.58273635598869income\n:   8.11238704437322\n\n",
            "text/latex": "\\begin{description*}\n\\item[race] 4.22855359170829\n\\item[fire] 4.53836173252361\n\\item[theft] 2.5220472493976\n\\item[age] 2.74630248794293\n\\item[volact] 7.77156340765284\n\\item[involact] 3.58273635598869\n\\item[income] 8.11238704437322\n\\end{description*}\n",
            "text/plain": [
              "    race     fire    theft      age   volact involact   income \n",
              "4.228554 4.538362 2.522047 2.746302 7.771563 3.582736 8.112387 "
            ]
          },
          "metadata": {}
        }
      ],
      "source": [
        "faraway::vif(data.train)\n",
        "# se descarta USize y UShap con vif>=7\n"
      ]
    },
    {
      "cell_type": "code",
      "execution_count": null,
      "metadata": {
        "colab": {
          "base_uri": "https://localhost:8080/",
          "height": 286
        },
        "id": "7g3Qc5wN2N3i",
        "outputId": "7a8797cc-0a30-436f-8d43-dd5f9233c56d"
      },
      "outputs": [
        {
          "output_type": "display_data",
          "data": {
            "text/html": [
              "<table class=\"dataframe\">\n",
              "<caption>A data.frame: 6 × 8</caption>\n",
              "<thead>\n",
              "\t<tr><th></th><th scope=col>Class</th><th scope=col>Adhes</th><th scope=col>BNucl</th><th scope=col>Chrom</th><th scope=col>Epith</th><th scope=col>Mitos</th><th scope=col>NNucl</th><th scope=col>Thick</th></tr>\n",
              "\t<tr><th></th><th scope=col>&lt;int&gt;</th><th scope=col>&lt;int&gt;</th><th scope=col>&lt;int&gt;</th><th scope=col>&lt;int&gt;</th><th scope=col>&lt;int&gt;</th><th scope=col>&lt;int&gt;</th><th scope=col>&lt;int&gt;</th><th scope=col>&lt;int&gt;</th></tr>\n",
              "</thead>\n",
              "<tbody>\n",
              "\t<tr><th scope=row>1</th><td>1</td><td>1</td><td> 1</td><td>3</td><td>2</td><td>1</td><td>1</td><td>5</td></tr>\n",
              "\t<tr><th scope=row>2</th><td>1</td><td>5</td><td>10</td><td>3</td><td>7</td><td>1</td><td>2</td><td>5</td></tr>\n",
              "\t<tr><th scope=row>3</th><td>1</td><td>1</td><td> 2</td><td>3</td><td>2</td><td>1</td><td>1</td><td>3</td></tr>\n",
              "\t<tr><th scope=row>4</th><td>1</td><td>1</td><td> 4</td><td>3</td><td>3</td><td>1</td><td>7</td><td>6</td></tr>\n",
              "\t<tr><th scope=row>5</th><td>1</td><td>3</td><td> 1</td><td>3</td><td>2</td><td>1</td><td>1</td><td>4</td></tr>\n",
              "\t<tr><th scope=row>6</th><td>0</td><td>8</td><td>10</td><td>9</td><td>7</td><td>1</td><td>7</td><td>8</td></tr>\n",
              "</tbody>\n",
              "</table>\n"
            ],
            "text/markdown": "\nA data.frame: 6 × 8\n\n| <!--/--> | Class &lt;int&gt; | Adhes &lt;int&gt; | BNucl &lt;int&gt; | Chrom &lt;int&gt; | Epith &lt;int&gt; | Mitos &lt;int&gt; | NNucl &lt;int&gt; | Thick &lt;int&gt; |\n|---|---|---|---|---|---|---|---|---|\n| 1 | 1 | 1 |  1 | 3 | 2 | 1 | 1 | 5 |\n| 2 | 1 | 5 | 10 | 3 | 7 | 1 | 2 | 5 |\n| 3 | 1 | 1 |  2 | 3 | 2 | 1 | 1 | 3 |\n| 4 | 1 | 1 |  4 | 3 | 3 | 1 | 7 | 6 |\n| 5 | 1 | 3 |  1 | 3 | 2 | 1 | 1 | 4 |\n| 6 | 0 | 8 | 10 | 9 | 7 | 1 | 7 | 8 |\n\n",
            "text/latex": "A data.frame: 6 × 8\n\\begin{tabular}{r|llllllll}\n  & Class & Adhes & BNucl & Chrom & Epith & Mitos & NNucl & Thick\\\\\n  & <int> & <int> & <int> & <int> & <int> & <int> & <int> & <int>\\\\\n\\hline\n\t1 & 1 & 1 &  1 & 3 & 2 & 1 & 1 & 5\\\\\n\t2 & 1 & 5 & 10 & 3 & 7 & 1 & 2 & 5\\\\\n\t3 & 1 & 1 &  2 & 3 & 2 & 1 & 1 & 3\\\\\n\t4 & 1 & 1 &  4 & 3 & 3 & 1 & 7 & 6\\\\\n\t5 & 1 & 3 &  1 & 3 & 2 & 1 & 1 & 4\\\\\n\t6 & 0 & 8 & 10 & 9 & 7 & 1 & 7 & 8\\\\\n\\end{tabular}\n",
            "text/plain": [
              "  Class Adhes BNucl Chrom Epith Mitos NNucl Thick\n",
              "1 1     1      1    3     2     1     1     5    \n",
              "2 1     5     10    3     7     1     2     5    \n",
              "3 1     1      2    3     2     1     1     3    \n",
              "4 1     1      4    3     3     1     7     6    \n",
              "5 1     3      1    3     2     1     1     4    \n",
              "6 0     8     10    9     7     1     7     8    "
            ]
          },
          "metadata": {}
        }
      ],
      "source": [
        "wbca_vif <- wbca[,-c(9,10)]\n",
        "#wbca_vif <- wcbac[]\n",
        "head(wbca_vif)"
      ]
    },
    {
      "cell_type": "code",
      "execution_count": null,
      "metadata": {
        "id": "kKN-Ak5TBzH5"
      },
      "outputs": [],
      "source": [
        "set.seed(2)\n",
        "ind_train <- partition(1:nrow(wbca_vif), p=c(0.8, 0.2))\n",
        "data.train <- wbca_vif[ind_train$`1`,]\n",
        "data.test <- wbca_vif[ind_train$`2`,]"
      ]
    },
    {
      "cell_type": "code",
      "execution_count": null,
      "metadata": {
        "colab": {
          "base_uri": "https://localhost:8080/",
          "height": 52
        },
        "id": "1NUBOarcCcA9",
        "outputId": "78c888f3-40cc-491d-b0da-8522f4936ddd"
      },
      "outputs": [
        {
          "output_type": "display_data",
          "data": {
            "text/html": [
              "<style>\n",
              ".list-inline {list-style: none; margin:0; padding: 0}\n",
              ".list-inline>li {display: inline-block}\n",
              ".list-inline>li:not(:last-child)::after {content: \"\\00b7\"; padding: 0 .5ex}\n",
              "</style>\n",
              "<ol class=list-inline><li>542</li><li>8</li></ol>\n"
            ],
            "text/markdown": "1. 542\n2. 8\n\n\n",
            "text/latex": "\\begin{enumerate*}\n\\item 542\n\\item 8\n\\end{enumerate*}\n",
            "text/plain": [
              "[1] 542   8"
            ]
          },
          "metadata": {}
        },
        {
          "output_type": "display_data",
          "data": {
            "text/html": [
              "<style>\n",
              ".list-inline {list-style: none; margin:0; padding: 0}\n",
              ".list-inline>li {display: inline-block}\n",
              ".list-inline>li:not(:last-child)::after {content: \"\\00b7\"; padding: 0 .5ex}\n",
              "</style>\n",
              "<ol class=list-inline><li>139</li><li>8</li></ol>\n"
            ],
            "text/markdown": "1. 139\n2. 8\n\n\n",
            "text/latex": "\\begin{enumerate*}\n\\item 139\n\\item 8\n\\end{enumerate*}\n",
            "text/plain": [
              "[1] 139   8"
            ]
          },
          "metadata": {}
        }
      ],
      "source": [
        "dim(data.train)\n",
        "dim(data.test)"
      ]
    },
    {
      "cell_type": "code",
      "execution_count": null,
      "metadata": {
        "colab": {
          "base_uri": "https://localhost:8080/",
          "height": 1000
        },
        "id": "zMqp_fOaCd2w",
        "outputId": "80152d6d-dc39-45ed-81fb-ba826cf75547"
      },
      "outputs": [
        {
          "output_type": "display_data",
          "data": {
            "text/plain": [
              "Plot with title “Mitos”"
            ],
            "image/png": "[encoded data removed]"
          },
          "metadata": {
            "image/png": {
              "width": 420,
              "height": 420
            }
          }
        },
        {
          "output_type": "display_data",
          "data": {
            "text/plain": [
              "Plot with title “Epith”"
            ],
            "image/png": "[encoded data removed]"
          },
          "metadata": {
            "image/png": {
              "width": 420,
              "height": 420
            }
          }
        },
        {
          "output_type": "display_data",
          "data": {
            "text/plain": [
              "Plot with title “NNucl”"
            ],
            "image/png": "[encoded data removed]"
          },
          "metadata": {
            "image/png": {
              "width": 420,
              "height": 420
            }
          }
        }
      ],
      "source": [
        "par(mfrow=c(2,3))\n",
        "for(i in 1:7)hist(wbca[,i],main=names(wbca)[i])\n",
        "for(i in 1:7)boxplot(wbca[,i],main=names(wbca)[i])\n",
        "# se observa que la distribución de las covariables no es normal."
      ]
    },
    {
      "cell_type": "markdown",
      "metadata": {
        "id": "UMHxsh2idu_k"
      },
      "source": [
        "## **2.2**:\n",
        "De acuerdo al contexto del conjunto de datos, seleccione alguna de las medidas de desempeño vistas en clase (Tasa de Error, Exactitud, Precisión, Sensibilidad, Especificidad, F1-Score o FβScore). Explique la elección de la medida de desempeño escogida.\n"
      ]
    },
    {
      "cell_type": "markdown",
      "metadata": {
        "id": "Xq0-DNqRTGUc"
      },
      "source": [
        "Dado que intentamos resolver un problema de clasificación, Tumor benigno o maligno, las métricas a utilizar serían la precisión , recall, F1, F beta y apoyarse en la matriz de confusión que para este problema se busca reducir los falsos negativos. \n",
        "\n",
        "Es por ello que seleccionamos la métrica F1 la cual combina la precisión y el recall lo que facilita el análisis. \n",
        "\n",
        "No escogemos la precisión ya que como se discutió en clases puede resultar una métrica engañosa en modelos que se pudieran considerar malos."
      ]
    },
    {
      "cell_type": "markdown",
      "metadata": {
        "id": "7qBHPY5bTME_"
      },
      "source": [
        "F1-SCORE ya que conjuga la sensibilidad y la precisión en un único indicador"
      ]
    },
    {
      "cell_type": "markdown",
      "metadata": {
        "id": "235DBi9bd22f"
      },
      "source": [
        "## **2.3**\n",
        "Utilizando la muestra de entrenamiento, junto con la validaci´on cruzada k-fold (para algún k seleccionado por usted) y la medida de desempeño escogida, compare los modelos de regresión logística, naive-bayes (usted escoga el tipo de marginal), analisis discriminante lineal y cuadrático.\n",
        "¿Cuál de los métodos tiene el mejor resultado, según la validación cruzada k-fold?\n"
      ]
    },
    {
      "cell_type": "markdown",
      "source": [
        "## intento manual con k = 3 naive bayes"
      ],
      "metadata": {
        "id": "IhwHV-naKOy3"
      }
    },
    {
      "cell_type": "code",
      "source": [
        "part1=data.train[1:180,]    # se seleccionan las filas de la primera particion\n",
        "part2=data.train[181:360,]  # se seleccionan las filas de la segunda particion\n",
        "part3=data.train[361:542,]  # se seleccionan las filas de la tercera particion\n"
      ],
      "metadata": {
        "id": "E2aZvX7BIoSY"
      },
      "execution_count": null,
      "outputs": []
    },
    {
      "cell_type": "code",
      "source": [
        "\n",
        "nb.part1= naive_bayes(as.character(Class)~., data=data.train[-c(1:180),] ,usekernel = TRUE)\n",
        "nb.part2= naive_bayes(as.character(Class)~., data=data.train[-c(181:360),], usekernel = TRUE)\n",
        "nb.part3= naive_bayes(as.character(Class)~., data=data.train[-c(361:542),], usekernel = TRUE)\n"
      ],
      "metadata": {
        "id": "opX-A82qIoO1"
      },
      "execution_count": null,
      "outputs": []
    },
    {
      "cell_type": "code",
      "source": [
        "prednb.part1=predict(nb.part1, data.train[1:180,-1] )\n",
        "prednb.part2=predict(nb.part2, data.train[181:360,-1])\n",
        "prednb.part3=predict(nb.part3, data.train[361:542,-1])"
      ],
      "metadata": {
        "id": "6dN1jmGjIoLH"
      },
      "execution_count": null,
      "outputs": []
    },
    {
      "cell_type": "code",
      "source": [
        "cfm11 <- confusionMatrix(prednb.part1,as.factor(data.train[1:180,1]),mode = \"everything\", positive=\"1\" )\n",
        "cfm12 <- confusionMatrix(prednb.part2,as.factor(data.train[181:360,1]),mode = \"everything\", positive=\"1\" )\n",
        "cfm13 <- confusionMatrix(prednb.part3,as.factor(data.train[361:542,1]),mode = \"everything\", positive=\"1\" )\n",
        "cfm11\n",
        "cfm12\n",
        "cfm13"
      ],
      "metadata": {
        "colab": {
          "base_uri": "https://localhost:8080/",
          "height": 1000
        },
        "id": "nuVuK4wJIkYp",
        "outputId": "666970d2-2bf5-42d8-bfbd-554be7fb5f3e"
      },
      "execution_count": null,
      "outputs": [
        {
          "output_type": "display_data",
          "data": {
            "text/plain": [
              "Confusion Matrix and Statistics\n",
              "\n",
              "          Reference\n",
              "Prediction  0  1\n",
              "         0 73  4\n",
              "         1  8 95\n",
              "                                          \n",
              "               Accuracy : 0.9333          \n",
              "                 95% CI : (0.8864, 0.9651)\n",
              "    No Information Rate : 0.55            \n",
              "    P-Value [Acc > NIR] : <2e-16          \n",
              "                                          \n",
              "                  Kappa : 0.8647          \n",
              "                                          \n",
              " Mcnemar's Test P-Value : 0.3865          \n",
              "                                          \n",
              "            Sensitivity : 0.9596          \n",
              "            Specificity : 0.9012          \n",
              "         Pos Pred Value : 0.9223          \n",
              "         Neg Pred Value : 0.9481          \n",
              "              Precision : 0.9223          \n",
              "                 Recall : 0.9596          \n",
              "                     F1 : 0.9406          \n",
              "             Prevalence : 0.5500          \n",
              "         Detection Rate : 0.5278          \n",
              "   Detection Prevalence : 0.5722          \n",
              "      Balanced Accuracy : 0.9304          \n",
              "                                          \n",
              "       'Positive' Class : 1               \n",
              "                                          "
            ]
          },
          "metadata": {}
        },
        {
          "output_type": "display_data",
          "data": {
            "text/plain": [
              "Confusion Matrix and Statistics\n",
              "\n",
              "          Reference\n",
              "Prediction   0   1\n",
              "         0  63   8\n",
              "         1   4 105\n",
              "                                          \n",
              "               Accuracy : 0.9333          \n",
              "                 95% CI : (0.8864, 0.9651)\n",
              "    No Information Rate : 0.6278          \n",
              "    P-Value [Acc > NIR] : <2e-16          \n",
              "                                          \n",
              "                  Kappa : 0.8591          \n",
              "                                          \n",
              " Mcnemar's Test P-Value : 0.3865          \n",
              "                                          \n",
              "            Sensitivity : 0.9292          \n",
              "            Specificity : 0.9403          \n",
              "         Pos Pred Value : 0.9633          \n",
              "         Neg Pred Value : 0.8873          \n",
              "              Precision : 0.9633          \n",
              "                 Recall : 0.9292          \n",
              "                     F1 : 0.9459          \n",
              "             Prevalence : 0.6278          \n",
              "         Detection Rate : 0.5833          \n",
              "   Detection Prevalence : 0.6056          \n",
              "      Balanced Accuracy : 0.9348          \n",
              "                                          \n",
              "       'Positive' Class : 1               \n",
              "                                          "
            ]
          },
          "metadata": {}
        },
        {
          "output_type": "display_data",
          "data": {
            "text/plain": [
              "Confusion Matrix and Statistics\n",
              "\n",
              "          Reference\n",
              "Prediction   0   1\n",
              "         0  38   2\n",
              "         1   1 141\n",
              "                                          \n",
              "               Accuracy : 0.9835          \n",
              "                 95% CI : (0.9526, 0.9966)\n",
              "    No Information Rate : 0.7857          \n",
              "    P-Value [Acc > NIR] : 1.849e-15       \n",
              "                                          \n",
              "                  Kappa : 0.9515          \n",
              "                                          \n",
              " Mcnemar's Test P-Value : 1               \n",
              "                                          \n",
              "            Sensitivity : 0.9860          \n",
              "            Specificity : 0.9744          \n",
              "         Pos Pred Value : 0.9930          \n",
              "         Neg Pred Value : 0.9500          \n",
              "              Precision : 0.9930          \n",
              "                 Recall : 0.9860          \n",
              "                     F1 : 0.9895          \n",
              "             Prevalence : 0.7857          \n",
              "         Detection Rate : 0.7747          \n",
              "   Detection Prevalence : 0.7802          \n",
              "      Balanced Accuracy : 0.9802          \n",
              "                                          \n",
              "       'Positive' Class : 1               \n",
              "                                          "
            ]
          },
          "metadata": {}
        }
      ]
    },
    {
      "cell_type": "markdown",
      "source": [
        "## intento manual con k = 3 lda"
      ],
      "metadata": {
        "id": "jaUouG_OiC4d"
      }
    },
    {
      "cell_type": "code",
      "source": [
        "\n",
        "lda.part1= lda(Class~., data=part1)\n",
        "lda.part2= lda(Class~., data=part2)\n",
        "lda.part3= lda(Class~., data=part3)\n"
      ],
      "metadata": {
        "id": "jf9ToHdviGEX"
      },
      "execution_count": null,
      "outputs": []
    },
    {
      "cell_type": "code",
      "source": [
        "nb_train_predict2"
      ],
      "metadata": {
        "colab": {
          "base_uri": "https://localhost:8080/",
          "height": 173
        },
        "id": "e07tA46sVSON",
        "outputId": "3ccd7917-ea9f-4f79-9ffb-d7891e9c6d69"
      },
      "execution_count": null,
      "outputs": [
        {
          "output_type": "display_data",
          "data": {
            "text/html": [
              "<style>\n",
              ".list-inline {list-style: none; margin:0; padding: 0}\n",
              ".list-inline>li {display: inline-block}\n",
              ".list-inline>li:not(:last-child)::after {content: \"\\00b7\"; padding: 0 .5ex}\n",
              "</style>\n",
              "<ol class=list-inline><li>1</li><li>0</li><li>1</li><li>0</li><li>1</li><li>0</li><li>1</li><li>1</li><li>1</li><li>1</li><li>1</li><li>1</li><li>0</li><li>1</li><li>1</li><li>1</li><li>0</li><li>0</li><li>1</li><li>0</li><li>1</li><li>1</li><li>1</li><li>0</li><li>1</li><li>1</li><li>1</li><li>1</li><li>0</li><li>0</li><li>1</li><li>0</li><li>0</li><li>1</li><li>1</li><li>0</li><li>1</li><li>1</li><li>0</li><li>0</li><li>0</li><li>0</li><li>0</li><li>1</li><li>0</li><li>1</li><li>0</li><li>1</li><li>0</li><li>1</li><li>0</li><li>1</li><li>0</li><li>1</li><li>1</li><li>0</li><li>1</li><li>0</li><li>0</li><li>1</li><li>1</li><li>1</li><li>1</li><li>1</li><li>1</li><li>0</li><li>0</li><li>0</li><li>0</li><li>1</li><li>1</li><li>1</li><li>1</li><li>1</li><li>1</li><li>1</li><li>1</li><li>1</li><li>0</li><li>0</li><li>1</li><li>1</li><li>0</li><li>0</li><li>1</li><li>1</li><li>0</li><li>0</li><li>0</li><li>1</li><li>0</li><li>1</li><li>1</li><li>1</li><li>0</li><li>0</li><li>0</li><li>1</li><li>0</li><li>1</li><li>0</li><li>1</li><li>1</li><li>1</li><li>0</li><li>1</li><li>1</li><li>1</li><li>1</li><li>1</li><li>1</li><li>0</li><li>1</li><li>1</li><li>0</li><li>1</li><li>0</li><li>1</li><li>0</li><li>0</li><li>1</li><li>0</li><li>1</li><li>1</li><li>0</li><li>0</li><li>1</li><li>1</li><li>1</li><li>0</li><li>1</li><li>1</li><li>1</li><li>1</li><li>1</li><li>0</li><li>0</li><li>0</li><li>1</li><li>0</li><li>1</li><li>1</li><li>1</li><li>0</li><li>0</li><li>1</li><li>0</li><li>0</li><li>1</li><li>1</li><li>1</li><li>1</li><li>1</li><li>0</li><li>1</li><li>1</li><li>0</li><li>0</li><li>1</li><li>1</li><li>1</li><li>0</li><li>0</li><li>1</li><li>0</li><li>0</li><li>0</li><li>1</li><li>1</li><li>1</li><li>0</li><li>1</li><li>0</li><li>0</li><li>1</li><li>0</li><li>0</li><li>1</li><li>0</li><li>1</li><li>0</li><li>0</li><li>1</li><li>1</li><li>1</li><li>1</li><li>0</li><li>0</li><li>1</li><li>1</li><li>0</li><li>0</li><li>0</li><li>0</li><li>1</li><li>1</li><li>0</li><li>0</li><li>0</li><li>0</li><li>⋯</li><li>1</li><li>1</li><li>1</li><li>0</li><li>1</li><li>1</li><li>1</li><li>1</li><li>0</li><li>0</li><li>0</li><li>1</li><li>1</li><li>1</li><li>1</li><li>1</li><li>0</li><li>0</li><li>0</li><li>1</li><li>1</li><li>1</li><li>1</li><li>1</li><li>1</li><li>1</li><li>1</li><li>1</li><li>1</li><li>0</li><li>0</li><li>1</li><li>1</li><li>0</li><li>1</li><li>0</li><li>1</li><li>0</li><li>1</li><li>1</li><li>1</li><li>1</li><li>1</li><li>1</li><li>1</li><li>1</li><li>1</li><li>1</li><li>1</li><li>0</li><li>1</li><li>1</li><li>1</li><li>1</li><li>1</li><li>1</li><li>1</li><li>1</li><li>1</li><li>0</li><li>1</li><li>0</li><li>0</li><li>1</li><li>1</li><li>1</li><li>1</li><li>1</li><li>1</li><li>1</li><li>1</li><li>1</li><li>1</li><li>1</li><li>1</li><li>1</li><li>1</li><li>1</li><li>1</li><li>1</li><li>0</li><li>1</li><li>1</li><li>1</li><li>1</li><li>1</li><li>1</li><li>1</li><li>1</li><li>1</li><li>1</li><li>1</li><li>1</li><li>1</li><li>1</li><li>1</li><li>0</li><li>1</li><li>0</li><li>0</li><li>0</li><li>1</li><li>1</li><li>0</li><li>1</li><li>1</li><li>1</li><li>1</li><li>1</li><li>1</li><li>0</li><li>0</li><li>1</li><li>1</li><li>1</li><li>0</li><li>1</li><li>1</li><li>1</li><li>0</li><li>0</li><li>1</li><li>1</li><li>1</li><li>1</li><li>0</li><li>0</li><li>0</li><li>1</li><li>0</li><li>0</li><li>1</li><li>1</li><li>1</li><li>1</li><li>1</li><li>1</li><li>1</li><li>1</li><li>1</li><li>1</li><li>1</li><li>1</li><li>0</li><li>1</li><li>1</li><li>1</li><li>1</li><li>0</li><li>1</li><li>0</li><li>1</li><li>1</li><li>1</li><li>1</li><li>1</li><li>1</li><li>1</li><li>1</li><li>1</li><li>0</li><li>1</li><li>1</li><li>1</li><li>1</li><li>1</li><li>1</li><li>1</li><li>0</li><li>1</li><li>1</li><li>1</li><li>1</li><li>1</li><li>1</li><li>1</li><li>0</li><li>0</li><li>0</li><li>1</li><li>1</li><li>1</li><li>1</li><li>1</li><li>0</li><li>0</li><li>1</li><li>1</li><li>1</li><li>1</li><li>1</li><li>1</li><li>1</li><li>1</li><li>1</li><li>0</li><li>1</li><li>1</li><li>1</li><li>0</li></ol>\n",
              "\n",
              "<details>\n",
              "\t<summary style=display:list-item;cursor:pointer>\n",
              "\t\t<strong>Levels</strong>:\n",
              "\t</summary>\n",
              "\t<style>\n",
              "\t.list-inline {list-style: none; margin:0; padding: 0}\n",
              "\t.list-inline>li {display: inline-block}\n",
              "\t.list-inline>li:not(:last-child)::after {content: \"\\00b7\"; padding: 0 .5ex}\n",
              "\t</style>\n",
              "\t<ol class=list-inline><li>'0'</li><li>'1'</li></ol>\n",
              "</details>"
            ],
            "text/markdown": "1. 1\n2. 0\n3. 1\n4. 0\n5. 1\n6. 0\n7. 1\n8. 1\n9. 1\n10. 1\n11. 1\n12. 1\n13. 0\n14. 1\n15. 1\n16. 1\n17. 0\n18. 0\n19. 1\n20. 0\n21. 1\n22. 1\n23. 1\n24. 0\n25. 1\n26. 1\n27. 1\n28. 1\n29. 0\n30. 0\n31. 1\n32. 0\n33. 0\n34. 1\n35. 1\n36. 0\n37. 1\n38. 1\n39. 0\n40. 0\n41. 0\n42. 0\n43. 0\n44. 1\n45. 0\n46. 1\n47. 0\n48. 1\n49. 0\n50. 1\n51. 0\n52. 1\n53. 0\n54. 1\n55. 1\n56. 0\n57. 1\n58. 0\n59. 0\n60. 1\n61. 1\n62. 1\n63. 1\n64. 1\n65. 1\n66. 0\n67. 0\n68. 0\n69. 0\n70. 1\n71. 1\n72. 1\n73. 1\n74. 1\n75. 1\n76. 1\n77. 1\n78. 1\n79. 0\n80. 0\n81. 1\n82. 1\n83. 0\n84. 0\n85. 1\n86. 1\n87. 0\n88. 0\n89. 0\n90. 1\n91. 0\n92. 1\n93. 1\n94. 1\n95. 0\n96. 0\n97. 0\n98. 1\n99. 0\n100. 1\n101. 0\n102. 1\n103. 1\n104. 1\n105. 0\n106. 1\n107. 1\n108. 1\n109. 1\n110. 1\n111. 1\n112. 0\n113. 1\n114. 1\n115. 0\n116. 1\n117. 0\n118. 1\n119. 0\n120. 0\n121. 1\n122. 0\n123. 1\n124. 1\n125. 0\n126. 0\n127. 1\n128. 1\n129. 1\n130. 0\n131. 1\n132. 1\n133. 1\n134. 1\n135. 1\n136. 0\n137. 0\n138. 0\n139. 1\n140. 0\n141. 1\n142. 1\n143. 1\n144. 0\n145. 0\n146. 1\n147. 0\n148. 0\n149. 1\n150. 1\n151. 1\n152. 1\n153. 1\n154. 0\n155. 1\n156. 1\n157. 0\n158. 0\n159. 1\n160. 1\n161. 1\n162. 0\n163. 0\n164. 1\n165. 0\n166. 0\n167. 0\n168. 1\n169. 1\n170. 1\n171. 0\n172. 1\n173. 0\n174. 0\n175. 1\n176. 0\n177. 0\n178. 1\n179. 0\n180. 1\n181. 0\n182. 0\n183. 1\n184. 1\n185. 1\n186. 1\n187. 0\n188. 0\n189. 1\n190. 1\n191. 0\n192. 0\n193. 0\n194. 0\n195. 1\n196. 1\n197. 0\n198. 0\n199. 0\n200. 0\n201. ⋯\n202. 1\n203. 1\n204. 1\n205. 0\n206. 1\n207. 1\n208. 1\n209. 1\n210. 0\n211. 0\n212. 0\n213. 1\n214. 1\n215. 1\n216. 1\n217. 1\n218. 0\n219. 0\n220. 0\n221. 1\n222. 1\n223. 1\n224. 1\n225. 1\n226. 1\n227. 1\n228. 1\n229. 1\n230. 1\n231. 0\n232. 0\n233. 1\n234. 1\n235. 0\n236. 1\n237. 0\n238. 1\n239. 0\n240. 1\n241. 1\n242. 1\n243. 1\n244. 1\n245. 1\n246. 1\n247. 1\n248. 1\n249. 1\n250. 1\n251. 0\n252. 1\n253. 1\n254. 1\n255. 1\n256. 1\n257. 1\n258. 1\n259. 1\n260. 1\n261. 0\n262. 1\n263. 0\n264. 0\n265. 1\n266. 1\n267. 1\n268. 1\n269. 1\n270. 1\n271. 1\n272. 1\n273. 1\n274. 1\n275. 1\n276. 1\n277. 1\n278. 1\n279. 1\n280. 1\n281. 1\n282. 0\n283. 1\n284. 1\n285. 1\n286. 1\n287. 1\n288. 1\n289. 1\n290. 1\n291. 1\n292. 1\n293. 1\n294. 1\n295. 1\n296. 1\n297. 1\n298. 0\n299. 1\n300. 0\n301. 0\n302. 0\n303. 1\n304. 1\n305. 0\n306. 1\n307. 1\n308. 1\n309. 1\n310. 1\n311. 1\n312. 0\n313. 0\n314. 1\n315. 1\n316. 1\n317. 0\n318. 1\n319. 1\n320. 1\n321. 0\n322. 0\n323. 1\n324. 1\n325. 1\n326. 1\n327. 0\n328. 0\n329. 0\n330. 1\n331. 0\n332. 0\n333. 1\n334. 1\n335. 1\n336. 1\n337. 1\n338. 1\n339. 1\n340. 1\n341. 1\n342. 1\n343. 1\n344. 1\n345. 0\n346. 1\n347. 1\n348. 1\n349. 1\n350. 0\n351. 1\n352. 0\n353. 1\n354. 1\n355. 1\n356. 1\n357. 1\n358. 1\n359. 1\n360. 1\n361. 1\n362. 0\n363. 1\n364. 1\n365. 1\n366. 1\n367. 1\n368. 1\n369. 1\n370. 0\n371. 1\n372. 1\n373. 1\n374. 1\n375. 1\n376. 1\n377. 1\n378. 0\n379. 0\n380. 0\n381. 1\n382. 1\n383. 1\n384. 1\n385. 1\n386. 0\n387. 0\n388. 1\n389. 1\n390. 1\n391. 1\n392. 1\n393. 1\n394. 1\n395. 1\n396. 1\n397. 0\n398. 1\n399. 1\n400. 1\n401. 0\n\n\n\n**Levels**: 1. '0'\n2. '1'\n\n\n",
            "text/latex": "\\begin{enumerate*}\n\\item 1\n\\item 0\n\\item 1\n\\item 0\n\\item 1\n\\item 0\n\\item 1\n\\item 1\n\\item 1\n\\item 1\n\\item 1\n\\item 1\n\\item 0\n\\item 1\n\\item 1\n\\item 1\n\\item 0\n\\item 0\n\\item 1\n\\item 0\n\\item 1\n\\item 1\n\\item 1\n\\item 0\n\\item 1\n\\item 1\n\\item 1\n\\item 1\n\\item 0\n\\item 0\n\\item 1\n\\item 0\n\\item 0\n\\item 1\n\\item 1\n\\item 0\n\\item 1\n\\item 1\n\\item 0\n\\item 0\n\\item 0\n\\item 0\n\\item 0\n\\item 1\n\\item 0\n\\item 1\n\\item 0\n\\item 1\n\\item 0\n\\item 1\n\\item 0\n\\item 1\n\\item 0\n\\item 1\n\\item 1\n\\item 0\n\\item 1\n\\item 0\n\\item 0\n\\item 1\n\\item 1\n\\item 1\n\\item 1\n\\item 1\n\\item 1\n\\item 0\n\\item 0\n\\item 0\n\\item 0\n\\item 1\n\\item 1\n\\item 1\n\\item 1\n\\item 1\n\\item 1\n\\item 1\n\\item 1\n\\item 1\n\\item 0\n\\item 0\n\\item 1\n\\item 1\n\\item 0\n\\item 0\n\\item 1\n\\item 1\n\\item 0\n\\item 0\n\\item 0\n\\item 1\n\\item 0\n\\item 1\n\\item 1\n\\item 1\n\\item 0\n\\item 0\n\\item 0\n\\item 1\n\\item 0\n\\item 1\n\\item 0\n\\item 1\n\\item 1\n\\item 1\n\\item 0\n\\item 1\n\\item 1\n\\item 1\n\\item 1\n\\item 1\n\\item 1\n\\item 0\n\\item 1\n\\item 1\n\\item 0\n\\item 1\n\\item 0\n\\item 1\n\\item 0\n\\item 0\n\\item 1\n\\item 0\n\\item 1\n\\item 1\n\\item 0\n\\item 0\n\\item 1\n\\item 1\n\\item 1\n\\item 0\n\\item 1\n\\item 1\n\\item 1\n\\item 1\n\\item 1\n\\item 0\n\\item 0\n\\item 0\n\\item 1\n\\item 0\n\\item 1\n\\item 1\n\\item 1\n\\item 0\n\\item 0\n\\item 1\n\\item 0\n\\item 0\n\\item 1\n\\item 1\n\\item 1\n\\item 1\n\\item 1\n\\item 0\n\\item 1\n\\item 1\n\\item 0\n\\item 0\n\\item 1\n\\item 1\n\\item 1\n\\item 0\n\\item 0\n\\item 1\n\\item 0\n\\item 0\n\\item 0\n\\item 1\n\\item 1\n\\item 1\n\\item 0\n\\item 1\n\\item 0\n\\item 0\n\\item 1\n\\item 0\n\\item 0\n\\item 1\n\\item 0\n\\item 1\n\\item 0\n\\item 0\n\\item 1\n\\item 1\n\\item 1\n\\item 1\n\\item 0\n\\item 0\n\\item 1\n\\item 1\n\\item 0\n\\item 0\n\\item 0\n\\item 0\n\\item 1\n\\item 1\n\\item 0\n\\item 0\n\\item 0\n\\item 0\n\\item ⋯\n\\item 1\n\\item 1\n\\item 1\n\\item 0\n\\item 1\n\\item 1\n\\item 1\n\\item 1\n\\item 0\n\\item 0\n\\item 0\n\\item 1\n\\item 1\n\\item 1\n\\item 1\n\\item 1\n\\item 0\n\\item 0\n\\item 0\n\\item 1\n\\item 1\n\\item 1\n\\item 1\n\\item 1\n\\item 1\n\\item 1\n\\item 1\n\\item 1\n\\item 1\n\\item 0\n\\item 0\n\\item 1\n\\item 1\n\\item 0\n\\item 1\n\\item 0\n\\item 1\n\\item 0\n\\item 1\n\\item 1\n\\item 1\n\\item 1\n\\item 1\n\\item 1\n\\item 1\n\\item 1\n\\item 1\n\\item 1\n\\item 1\n\\item 0\n\\item 1\n\\item 1\n\\item 1\n\\item 1\n\\item 1\n\\item 1\n\\item 1\n\\item 1\n\\item 1\n\\item 0\n\\item 1\n\\item 0\n\\item 0\n\\item 1\n\\item 1\n\\item 1\n\\item 1\n\\item 1\n\\item 1\n\\item 1\n\\item 1\n\\item 1\n\\item 1\n\\item 1\n\\item 1\n\\item 1\n\\item 1\n\\item 1\n\\item 1\n\\item 1\n\\item 0\n\\item 1\n\\item 1\n\\item 1\n\\item 1\n\\item 1\n\\item 1\n\\item 1\n\\item 1\n\\item 1\n\\item 1\n\\item 1\n\\item 1\n\\item 1\n\\item 1\n\\item 1\n\\item 0\n\\item 1\n\\item 0\n\\item 0\n\\item 0\n\\item 1\n\\item 1\n\\item 0\n\\item 1\n\\item 1\n\\item 1\n\\item 1\n\\item 1\n\\item 1\n\\item 0\n\\item 0\n\\item 1\n\\item 1\n\\item 1\n\\item 0\n\\item 1\n\\item 1\n\\item 1\n\\item 0\n\\item 0\n\\item 1\n\\item 1\n\\item 1\n\\item 1\n\\item 0\n\\item 0\n\\item 0\n\\item 1\n\\item 0\n\\item 0\n\\item 1\n\\item 1\n\\item 1\n\\item 1\n\\item 1\n\\item 1\n\\item 1\n\\item 1\n\\item 1\n\\item 1\n\\item 1\n\\item 1\n\\item 0\n\\item 1\n\\item 1\n\\item 1\n\\item 1\n\\item 0\n\\item 1\n\\item 0\n\\item 1\n\\item 1\n\\item 1\n\\item 1\n\\item 1\n\\item 1\n\\item 1\n\\item 1\n\\item 1\n\\item 0\n\\item 1\n\\item 1\n\\item 1\n\\item 1\n\\item 1\n\\item 1\n\\item 1\n\\item 0\n\\item 1\n\\item 1\n\\item 1\n\\item 1\n\\item 1\n\\item 1\n\\item 1\n\\item 0\n\\item 0\n\\item 0\n\\item 1\n\\item 1\n\\item 1\n\\item 1\n\\item 1\n\\item 0\n\\item 0\n\\item 1\n\\item 1\n\\item 1\n\\item 1\n\\item 1\n\\item 1\n\\item 1\n\\item 1\n\\item 1\n\\item 0\n\\item 1\n\\item 1\n\\item 1\n\\item 0\n\\end{enumerate*}\n\n\\emph{Levels}: \\begin{enumerate*}\n\\item '0'\n\\item '1'\n\\end{enumerate*}\n",
            "text/plain": [
              "  [1] 1 0 1 0 1 0 1 1 1 1 1 1 0 1 1 1 0 0 1 0 1 1 1 0 1 1 1 1 0 0 1 0 0 1 1 0 1\n",
              " [38] 1 0 0 0 0 0 1 0 1 0 1 0 1 0 1 0 1 1 0 1 0 0 1 1 1 1 1 1 0 0 0 0 1 1 1 1 1\n",
              " [75] 1 1 1 1 0 0 1 1 0 0 1 1 0 0 0 1 0 1 1 1 0 0 0 1 0 1 0 1 1 1 0 1 1 1 1 1 1\n",
              "[112] 0 1 1 0 1 0 1 0 0 1 0 1 1 0 0 1 1 1 0 1 1 1 1 1 0 0 0 1 0 1 1 1 0 0 1 0 0\n",
              "[149] 1 1 1 1 1 0 1 1 0 0 1 1 1 0 0 1 0 0 0 1 1 1 0 1 0 0 1 0 0 1 0 1 0 0 1 1 1\n",
              "[186] 1 0 0 1 1 0 0 0 0 1 1 0 0 0 0 0 0 1 0 0 0 1 0 0 1 1 1 1 1 0 1 0 0 0 0 0 1\n",
              "[223] 0 0 1 1 0 0 0 1 0 1 1 0 0 1 0 1 1 0 1 1 0 1 0 0 1 0 1 0 0 1 1 1 0 1 0 1 1\n",
              "[260] 1 0 1 1 1 1 0 1 1 0 1 1 0 0 0 0 0 1 1 1 1 0 1 1 1 1 1 1 1 1 1 1 1 1 0 1 1\n",
              "[297] 1 1 1 1 0 1 1 1 1 1 1 1 0 1 1 1 1 1 1 0 1 0 1 1 1 1 1 0 1 0 1 0 1 1 1 1 0\n",
              "[334] 0 1 1 1 0 1 1 1 1 1 1 1 0 1 1 1 1 0 0 0 1 1 1 1 1 0 0 0 1 1 1 1 1 1 1 1 1\n",
              "[371] 1 0 0 1 1 0 1 0 1 0 1 1 1 1 1 1 1 1 1 1 1 0 1 1 1 1 1 1 1 1 1 0 1 0 0 1 1\n",
              "[408] 1 1 1 1 1 1 1 1 1 1 1 1 1 1 1 0 1 1 1 1 1 1 1 1 1 1 1 1 1 1 1 0 1 0 0 0 1\n",
              "[445] 1 0 1 1 1 1 1 1 0 0 1 1 1 0 1 1 1 0 0 1 1 1 1 0 0 0 1 0 0 1 1 1 1 1 1 1 1\n",
              "[482] 1 1 1 1 0 1 1 1 1 0 1 0 1 1 1 1 1 1 1 1 1 0 1 1 1 1 1 1 1 0 1 1 1 1 1 1 1\n",
              "[519] 0 0 0 1 1 1 1 1 0 0 1 1 1 1 1 1 1 1 1 0 1 1 1 0\n",
              "Levels: 0 1"
            ]
          },
          "metadata": {}
        }
      ]
    },
    {
      "cell_type": "code",
      "source": [
        "predlda_train_predict <- predict(lda.part1, subset(part1, select = -Class ))\n",
        "#cfm <- confusionMatrix(predlda_train_predict, as.factor(data.test$Class),mode = \"everything\", positive=\"1\")\n",
        "#confusionMatrix(predlda_train_predict,as.factor(part1$Class),mode = \"everything\", positive=\"1\" )\n",
        "confusionMatrix(as.factor(predlda_train_predict$class),as.factor(part1$Class),mode = \"everything\", positive=\"1\" )\n",
        "cfm\n",
        "#predlda.part1=predict(lda.part1, data.train[1:180,-1] )\n",
        "#predlda.part2=predict(lda.part2, data.train[181:360,-1])\n",
        "#predlda.part3=predict(lda.part3, data.train[361:542,-1])"
      ],
      "metadata": {
        "id": "Ju_aDQvBiF80",
        "colab": {
          "base_uri": "https://localhost:8080/",
          "height": 1000
        },
        "outputId": "7e8963ef-051b-4c0a-d536-aea2cbbc4cea"
      },
      "execution_count": null,
      "outputs": [
        {
          "output_type": "display_data",
          "data": {
            "text/plain": [
              "Confusion Matrix and Statistics\n",
              "\n",
              "          Reference\n",
              "Prediction  0  1\n",
              "         0 76  2\n",
              "         1  5 97\n",
              "                                          \n",
              "               Accuracy : 0.9611          \n",
              "                 95% CI : (0.9215, 0.9842)\n",
              "    No Information Rate : 0.55            \n",
              "    P-Value [Acc > NIR] : <2e-16          \n",
              "                                          \n",
              "                  Kappa : 0.9212          \n",
              "                                          \n",
              " Mcnemar's Test P-Value : 0.4497          \n",
              "                                          \n",
              "            Sensitivity : 0.9798          \n",
              "            Specificity : 0.9383          \n",
              "         Pos Pred Value : 0.9510          \n",
              "         Neg Pred Value : 0.9744          \n",
              "              Precision : 0.9510          \n",
              "                 Recall : 0.9798          \n",
              "                     F1 : 0.9652          \n",
              "             Prevalence : 0.5500          \n",
              "         Detection Rate : 0.5389          \n",
              "   Detection Prevalence : 0.5667          \n",
              "      Balanced Accuracy : 0.9590          \n",
              "                                          \n",
              "       'Positive' Class : 1               \n",
              "                                          "
            ]
          },
          "metadata": {}
        },
        {
          "output_type": "display_data",
          "data": {
            "text/plain": [
              "Confusion Matrix and Statistics\n",
              "\n",
              "          Reference\n",
              "Prediction  0  1\n",
              "         0 47  0\n",
              "         1  4 88\n",
              "                                         \n",
              "               Accuracy : 0.9712         \n",
              "                 95% CI : (0.928, 0.9921)\n",
              "    No Information Rate : 0.6331         \n",
              "    P-Value [Acc > NIR] : <2e-16         \n",
              "                                         \n",
              "                  Kappa : 0.937          \n",
              "                                         \n",
              " Mcnemar's Test P-Value : 0.1336         \n",
              "                                         \n",
              "            Sensitivity : 1.0000         \n",
              "            Specificity : 0.9216         \n",
              "         Pos Pred Value : 0.9565         \n",
              "         Neg Pred Value : 1.0000         \n",
              "              Precision : 0.9565         \n",
              "                 Recall : 1.0000         \n",
              "                     F1 : 0.9778         \n",
              "             Prevalence : 0.6331         \n",
              "         Detection Rate : 0.6331         \n",
              "   Detection Prevalence : 0.6619         \n",
              "      Balanced Accuracy : 0.9608         \n",
              "                                         \n",
              "       'Positive' Class : 1              \n",
              "                                         "
            ]
          },
          "metadata": {}
        }
      ]
    },
    {
      "cell_type": "code",
      "source": [
        "cfm21 <- confusionMatrix(predlda.part1,as.factor(data.train[1:180,1]),mode = \"everything\", positive=\"1\" )\n",
        "cfm22 <- confusionMatrix(predlda.part2,as.factor(data.train[181:360,1]),mode = \"everything\", positive=\"1\" )\n",
        "cfm23 <- confusionMatrix(predlda.part3,as.factor(data.train[361:542,1]),mode = \"everything\", positive=\"1\" )\n",
        "cfm21\n",
        "cfm22\n",
        "cfm23"
      ],
      "metadata": {
        "colab": {
          "base_uri": "https://localhost:8080/",
          "height": 218
        },
        "id": "SZ6uQSq1iF1i",
        "outputId": "b050aced-26b3-4404-a6e2-e35023015fd7"
      },
      "execution_count": null,
      "outputs": [
        {
          "output_type": "error",
          "ename": "ERROR",
          "evalue": "ignored",
          "traceback": [
            "Error: `data` and `reference` should be factors with the same levels.\nTraceback:\n",
            "1. confusionMatrix(predlda.part1, as.character(data.train[1:180, \n .     1]), mode = \"everything\", positive = \"1\")",
            "2. confusionMatrix.default(predlda.part1, as.character(data.train[1:180, \n .     1]), mode = \"everything\", positive = \"1\")",
            "3. stop(\"`data` and `reference` should be factors with the same levels.\", \n .     call. = FALSE)"
          ]
        }
      ]
    },
    {
      "cell_type": "markdown",
      "source": [
        "## intento manual con k = 3 qda"
      ],
      "metadata": {
        "id": "r79iKIYkk8eV"
      }
    },
    {
      "cell_type": "code",
      "source": [
        "\n",
        "qda.part1= qda(as.character(Class)~., data=data.train[-c(1:180),] )\n",
        "qda.part2= qda(as.character(Class)~., data=data.train[-c(181:360),])\n",
        "qda.part3= qda(as.character(Class)~., data=data.train[-c(361:542),])\n"
      ],
      "metadata": {
        "id": "7IXnhY8TlGWb"
      },
      "execution_count": null,
      "outputs": []
    },
    {
      "cell_type": "code",
      "source": [
        "predqda.part1=predict(qda.part1, data.train[1:180,-1] )\n",
        "predqda.part2=predict(qda.part2, data.train[181:360,-1])\n",
        "predqda.part3=predict(qda.part3, data.train[361:542,-1])"
      ],
      "metadata": {
        "id": "DyY8b7ezlGQP"
      },
      "execution_count": null,
      "outputs": []
    },
    {
      "cell_type": "code",
      "source": [
        "cfm31 <- confusionMatrix(predqda.part1,as.factor(data.train[1:180,1]),mode = \"everything\", positive=\"1\" )\n",
        "cfm32 <- confusionMatrix(predqda.part2,as.factor(data.train[181:360,1]),mode = \"everything\", positive=\"1\" )\n",
        "cfm33 <- confusionMatrix(predqda.part3,as.factor(data.train[361:542,1]),mode = \"everything\", positive=\"1\" )\n",
        "cfm31\n",
        "cfm32\n",
        "cfm33"
      ],
      "metadata": {
        "colab": {
          "base_uri": "https://localhost:8080/",
          "height": 218
        },
        "id": "stCzP_-ylF1C",
        "outputId": "d2cc6bee-065a-4f75-d7d6-ea13c5bf8080"
      },
      "execution_count": null,
      "outputs": [
        {
          "output_type": "error",
          "ename": "ERROR",
          "evalue": "ignored",
          "traceback": [
            "Error: `data` and `reference` should be factors with the same levels.\nTraceback:\n",
            "1. confusionMatrix(predqda.part1, as.factor(data.train[1:180, 1]), \n .     mode = \"everything\", positive = \"1\")",
            "2. confusionMatrix.default(predqda.part1, as.factor(data.train[1:180, \n .     1]), mode = \"everything\", positive = \"1\")",
            "3. stop(\"`data` and `reference` should be factors with the same levels.\", \n .     call. = FALSE)"
          ]
        }
      ]
    },
    {
      "cell_type": "markdown",
      "source": [
        "## intento con k = 3 reg log"
      ],
      "metadata": {
        "id": "YbSeiNTklX0R"
      }
    },
    {
      "cell_type": "code",
      "source": [
        "rlg.part1= glm(Class~., data=data.train[-c(1:180),] , family = \"binomial\")\n",
        "rlg.part2= glm(Class~., data=data.train[-c(181:360),], family = \"binomial\")\n",
        "rlg.part3= glm(Class~., data=data.train[-c(361:542),], family = \"binomial\")\n"
      ],
      "metadata": {
        "id": "TWcO6eSqldbx"
      },
      "execution_count": null,
      "outputs": []
    },
    {
      "cell_type": "code",
      "source": [
        "str(as.factor(predrlg_train_predict))"
      ],
      "metadata": {
        "colab": {
          "base_uri": "https://localhost:8080/"
        },
        "id": "6uaBTaJ2iBoG",
        "outputId": "507dd191-8af5-4e9a-b003-f34a3dc12a20"
      },
      "execution_count": null,
      "outputs": [
        {
          "output_type": "stream",
          "name": "stdout",
          "text": [
            " Factor w/ 133 levels \"3.28409346679496e-09\",..: 91 77 102 78 92 19 98 112 100 103 ...\n",
            " - attr(*, \"names\")= chr [1:180] \"1\" \"2\" \"3\" \"4\" ...\n"
          ]
        }
      ]
    },
    {
      "cell_type": "code",
      "source": [
        "predrlg_train_predict <- predict(rlg.part1, subset(part1, select = -Class ))\n",
        "#cfm <- confusionMatrix(predlda_train_predict, as.factor(data.test$Class),mode = \"everything\", positive=\"1\")\n",
        "#confusionMatrix(predlda_train_predict,as.factor(part1$Class),mode = \"everything\", positive=\"1\" )\n",
        "#confusionMatrix(as.factor(predrlg_train_predict$class),as.factor(part1$Class),mode = \"everything\", positive=\"1\" )\n",
        "#cfm\n",
        "\n",
        "#predrlg.part1=predict(rlg.part1, data.train[1:180,-1] )\n",
        "#predrlg.part2=predict(rlg.part2, data.train[181:360,-1])\n",
        "#predrlg.part3=predict(rlg.part3, data.train[361:542,-1])"
      ],
      "metadata": {
        "id": "ZACti-tmldVP"
      },
      "execution_count": null,
      "outputs": []
    },
    {
      "cell_type": "code",
      "source": [
        "cfm41 <- confusionMatrix(predrlg.part1,data.train[1:180,1],mode = \"everything\")\n",
        "cfm42 <- confusionMatrix(predrlg.part2,data.train[181:360,1],mode = \"everything\")\n",
        "cfm43 <- confusionMatrix(predrlg.part3,data.train[361:542,1],mode = \"everything\")\n",
        "cfm41\n",
        "cfm42\n",
        "cfm43"
      ],
      "metadata": {
        "colab": {
          "base_uri": "https://localhost:8080/",
          "height": 201
        },
        "id": "9lqqVg6mldIC",
        "outputId": "4ee48f6f-cfbb-4d8a-946d-543878d215c5"
      },
      "execution_count": null,
      "outputs": [
        {
          "output_type": "error",
          "ename": "ERROR",
          "evalue": "ignored",
          "traceback": [
            "Error: `data` and `reference` should be factors with the same levels.\nTraceback:\n",
            "1. confusionMatrix(predrlg.part1, data.train[1:180, 1], mode = \"everything\")",
            "2. confusionMatrix.default(predrlg.part1, data.train[1:180, 1], \n .     mode = \"everything\")",
            "3. stop(\"`data` and `reference` should be factors with the same levels.\", \n .     call. = FALSE)"
          ]
        }
      ]
    },
    {
      "cell_type": "markdown",
      "metadata": {
        "id": "Qi4Rgr5lemk3"
      },
      "source": [
        "## **2.4**\n",
        "Para el modelo seleccionado en el paso anterior, ajuste los parámetros con toda la muestra de entrenamiento y utilice la muestra test para medir la calidad del ajuste. Comente los resultados\n"
      ]
    },
    {
      "cell_type": "code",
      "execution_count": null,
      "metadata": {
        "colab": {
          "base_uri": "https://localhost:8080/",
          "height": 165
        },
        "id": "VkI0eu3Evp27",
        "outputId": "01d6845c-1cf6-4bac-a08d-a2341e81e63c"
      },
      "outputs": [
        {
          "output_type": "error",
          "ename": "ERROR",
          "evalue": "ignored",
          "traceback": [
            "Error in naive_bayes.formula(Class ~ ., data = data.train): naive_bayes(): y has to be either a factor or character or logical vector\nTraceback:\n",
            "1. naive_bayes(Class ~ ., data = data.train)",
            "2. naive_bayes.formula(Class ~ ., data = data.train)",
            "3. stop(\"naive_bayes(): y has to be either a factor or character or logical vector\")"
          ]
        }
      ],
      "source": [
        "wbca.nb <- naive_bayes(Class ~ ., data = data.train)\n",
        "\n",
        "nb_train_predict <- predict(wbca.nb, subset( data.test, select = -Class ))\n",
        "\n",
        "cfm <- confusionMatrix(nb_train_predict, as.factor(data.test$Class),mode = \"everything\", positive=\"1\")\n",
        "cfm"
      ]
    },
    {
      "cell_type": "code",
      "execution_count": null,
      "metadata": {
        "colab": {
          "base_uri": "https://localhost:8080/",
          "height": 217
        },
        "id": "h90UK3j-XQ0l",
        "outputId": "6ca5b8d1-21cf-49a4-80e2-8e124bfbb910"
      },
      "outputs": [
        {
          "output_type": "error",
          "ename": "ERROR",
          "evalue": "ignored",
          "traceback": [
            "Error in table(data, reference, dnn = dnn, ...): all arguments must have the same length\nTraceback:\n",
            "1. confusionMatrix(nb_train_predict2, as.factor(data.test$Class), \n .     mode = \"everything\", positive = \"1\")",
            "2. confusionMatrix.default(nb_train_predict2, as.factor(data.test$Class), \n .     mode = \"everything\", positive = \"1\")",
            "3. table(data, reference, dnn = dnn, ...)",
            "4. stop(\"all arguments must have the same length\")"
          ]
        }
      ],
      "source": [
        "specifications <- trainControl(method = \"cv\", number = 5 )                                           \n",
        "     \n",
        "nb1 <- train(x=data.train[-c(1)], y=as.character(data.train$Class), \n",
        "       trControl= specifications, method=\"lda\")\n",
        "\n",
        "nb_train_predict2 <- predict(nb1, subset( data.test, select = -Class ))\n",
        "\n",
        "cfm <- confusionMatrix(nb_train_predict2, as.factor(data.test$Class),mode = \"everything\", positive=\"1\")\n",
        "cfm\n",
        "#res.nb1= nb1$results\n",
        "#res.nb1\n",
        "#confusionMatrix(nb1)\n"
      ]
    },
    {
      "cell_type": "code",
      "execution_count": null,
      "metadata": {
        "colab": {
          "base_uri": "https://localhost:8080/",
          "height": 538
        },
        "id": "FTyLrAuDCnKd",
        "outputId": "361085dd-39e6-457f-fe12-cbc8b0231b8d"
      },
      "outputs": [
        {
          "output_type": "display_data",
          "data": {
            "text/plain": [
              "Confusion Matrix and Statistics\n",
              "\n",
              "          Reference\n",
              "Prediction  0  1\n",
              "         0 47  0\n",
              "         1  4 88\n",
              "                                         \n",
              "               Accuracy : 0.9712         \n",
              "                 95% CI : (0.928, 0.9921)\n",
              "    No Information Rate : 0.6331         \n",
              "    P-Value [Acc > NIR] : <2e-16         \n",
              "                                         \n",
              "                  Kappa : 0.937          \n",
              "                                         \n",
              " Mcnemar's Test P-Value : 0.1336         \n",
              "                                         \n",
              "            Sensitivity : 1.0000         \n",
              "            Specificity : 0.9216         \n",
              "         Pos Pred Value : 0.9565         \n",
              "         Neg Pred Value : 1.0000         \n",
              "              Precision : 0.9565         \n",
              "                 Recall : 1.0000         \n",
              "                     F1 : 0.9778         \n",
              "             Prevalence : 0.6331         \n",
              "         Detection Rate : 0.6331         \n",
              "   Detection Prevalence : 0.6619         \n",
              "      Balanced Accuracy : 0.9608         \n",
              "                                         \n",
              "       'Positive' Class : 1              \n",
              "                                         "
            ]
          },
          "metadata": {}
        }
      ],
      "source": [
        "#lda with k = 5\n",
        "lda1 <- train(x=data.train[-c(1)], y=as.character(data.train$Class), \n",
        "       trControl=trainControl(method=\"cv\", number=5),\n",
        "       method=\"lda\")\n",
        "\n",
        "lda1_train_predict <- predict(lda1, subset( data.test, select = -Class ))\n",
        "\n",
        "cfm <- confusionMatrix(lda1_train_predict, as.factor(data.test$Class),mode = \"everything\", positive=\"1\")\n",
        "cfm\n"
      ]
    },
    {
      "cell_type": "code",
      "execution_count": null,
      "metadata": {
        "colab": {
          "base_uri": "https://localhost:8080/",
          "height": 538
        },
        "id": "BFjfS7ZJDLB7",
        "outputId": "dae48a5a-f858-4a28-d5ca-d9777b5e8269"
      },
      "outputs": [
        {
          "output_type": "display_data",
          "data": {
            "text/plain": [
              "Confusion Matrix and Statistics\n",
              "\n",
              "          Reference\n",
              "Prediction  0  1\n",
              "         0 49  1\n",
              "         1  2 87\n",
              "                                          \n",
              "               Accuracy : 0.9784          \n",
              "                 95% CI : (0.9382, 0.9955)\n",
              "    No Information Rate : 0.6331          \n",
              "    P-Value [Acc > NIR] : <2e-16          \n",
              "                                          \n",
              "                  Kappa : 0.9534          \n",
              "                                          \n",
              " Mcnemar's Test P-Value : 1               \n",
              "                                          \n",
              "            Sensitivity : 0.9886          \n",
              "            Specificity : 0.9608          \n",
              "         Pos Pred Value : 0.9775          \n",
              "         Neg Pred Value : 0.9800          \n",
              "              Precision : 0.9775          \n",
              "                 Recall : 0.9886          \n",
              "                     F1 : 0.9831          \n",
              "             Prevalence : 0.6331          \n",
              "         Detection Rate : 0.6259          \n",
              "   Detection Prevalence : 0.6403          \n",
              "      Balanced Accuracy : 0.9747          \n",
              "                                          \n",
              "       'Positive' Class : 1               \n",
              "                                          "
            ]
          },
          "metadata": {}
        }
      ],
      "source": [
        "#qda with k = 5\n",
        "qda1 <- train(x=data.train[-c(1)], y=as.character(data.train$Class), \n",
        "       trControl=trainControl(method=\"cv\", number=5),\n",
        "       method=\"qda\")\n",
        "\n",
        "qda1_train_predict <- predict(qda1, subset( data.test, select = -Class ))\n",
        "\n",
        "cfm <- confusionMatrix(qda1_train_predict, as.factor(data.test$Class),mode = \"everything\", positive=\"1\")\n",
        "cfm\n"
      ]
    },
    {
      "cell_type": "code",
      "execution_count": null,
      "metadata": {
        "colab": {
          "base_uri": "https://localhost:8080/",
          "height": 538
        },
        "id": "XHmcckS9DrDZ",
        "outputId": "3c7453ae-f5dd-4ef6-fd36-ebc96f99912f"
      },
      "outputs": [
        {
          "output_type": "display_data",
          "data": {
            "text/plain": [
              "Confusion Matrix and Statistics\n",
              "\n",
              "          Reference\n",
              "Prediction  0  1\n",
              "         0 47  0\n",
              "         1  4 88\n",
              "                                         \n",
              "               Accuracy : 0.9712         \n",
              "                 95% CI : (0.928, 0.9921)\n",
              "    No Information Rate : 0.6331         \n",
              "    P-Value [Acc > NIR] : <2e-16         \n",
              "                                         \n",
              "                  Kappa : 0.937          \n",
              "                                         \n",
              " Mcnemar's Test P-Value : 0.1336         \n",
              "                                         \n",
              "            Sensitivity : 1.0000         \n",
              "            Specificity : 0.9216         \n",
              "         Pos Pred Value : 0.9565         \n",
              "         Neg Pred Value : 1.0000         \n",
              "              Precision : 0.9565         \n",
              "                 Recall : 1.0000         \n",
              "                     F1 : 0.9778         \n",
              "             Prevalence : 0.6331         \n",
              "         Detection Rate : 0.6331         \n",
              "   Detection Prevalence : 0.6619         \n",
              "      Balanced Accuracy : 0.9608         \n",
              "                                         \n",
              "       'Positive' Class : 1              \n",
              "                                         "
            ]
          },
          "metadata": {}
        }
      ],
      "source": [
        "#glm with k = 5\n",
        "glm1 <- train(x=data.train[-c(1)], y=as.character(data.train$Class), \n",
        "                      trControl=trainControl(method=\"cv\", number=5),\n",
        "                      method=\"glm\" )\n",
        "\n",
        "glm1_train_predict <- predict(glm1, subset( data.test, select = -Class ))\n",
        "\n",
        "cfm <- confusionMatrix(glm1_train_predict, as.factor(data.test$Class),mode = \"everything\", positive=\"1\")\n",
        "cfm"
      ]
    },
    {
      "cell_type": "code",
      "execution_count": null,
      "metadata": {
        "colab": {
          "base_uri": "https://localhost:8080/",
          "height": 1000
        },
        "id": "vXkN_oeU4Edl",
        "outputId": "88b1d3d4-36ef-40eb-ec44-15899a4aabd2"
      },
      "outputs": [
        {
          "name": "stdout",
          "output_type": "stream",
          "text": [
            "  usekernel laplace adjust Accuracy Kappa AccuracySD KappaSD\n",
            "1     FALSE       0      1        1     1          0       0\n",
            "2      TRUE       0      1        1     1          0       0\n",
            "  usekernel laplace adjust  Accuracy     Kappa  AccuracySD     KappaSD\n",
            "1     FALSE       0      1 0.9944444 0.9879014 0.012422600 0.027053250\n",
            "2      TRUE       0      1 0.9981481 0.9959153 0.004140867 0.009133712\n",
            "  usekernel laplace adjust  Accuracy     Kappa AccuracySD    KappaSD\n",
            "1     FALSE       0      1 0.9907577 0.9798012 0.01134029 0.02469647\n",
            "2      TRUE       0      1 0.9870710 0.9714960 0.01920866 0.04237302\n",
            "  usekernel laplace adjust  Accuracy     Kappa AccuracySD    KappaSD\n",
            "1     FALSE       0      1 0.9870540 0.9717854 0.01404801 0.03033480\n",
            "2      TRUE       0      1 0.9889059 0.9755077 0.01014696 0.02237765\n",
            "  usekernel laplace adjust  Accuracy     Kappa AccuracySD    KappaSD\n",
            "1     FALSE       0      1 0.9815664 0.9599945 0.01454660 0.03133762\n",
            "2      TRUE       0      1 0.9815494 0.9594066 0.01306497 0.02880784\n",
            "  usekernel laplace adjust  Accuracy     Kappa  AccuracySD    KappaSD\n",
            "1     FALSE       0      1 0.9796976 0.9557497 0.007717127 0.01664197\n",
            "2      TRUE       0      1 0.9760109 0.9470997 0.005072928 0.01132685\n",
            "  usekernel laplace adjust  Accuracy     Kappa  AccuracySD    KappaSD\n",
            "1     FALSE       0      1 0.9723921 0.9409368 0.026718536 0.05563255\n",
            "2      TRUE       0      1 0.9833843 0.9632407 0.007757371 0.01703930\n",
            "  usekernel laplace adjust  Accuracy     Kappa  AccuracySD    KappaSD\n",
            "1     FALSE       0      1 0.9723072 0.9399885 0.011375491 0.02421620\n",
            "2      TRUE       0      1 0.9796976 0.9551848 0.007767689 0.01737067\n",
            "  usekernel laplace adjust  Accuracy     Kappa AccuracySD   KappaSD\n",
            "1     FALSE       0      1 0.8652396 0.6786679 0.05031129 0.1308145\n",
            "2      TRUE       0      1 0.8652396 0.6786679 0.05031129 0.1308145\n",
            "  usekernel laplace adjust  Accuracy     Kappa AccuracySD    KappaSD\n",
            "1     FALSE       0      1 0.9354740 0.8569453 0.02335886 0.05273468\n",
            "2      TRUE       0      1 0.9188413 0.8138534 0.01348398 0.03406004\n",
            "  usekernel laplace adjust  Accuracy     Kappa AccuracySD    KappaSD\n",
            "1     FALSE       0      1 0.9409106 0.8700374 0.01932441 0.04227247\n",
            "2      TRUE       0      1 0.9335372 0.8498829 0.02578971 0.06029911\n",
            "  usekernel laplace adjust  Accuracy     Kappa AccuracySD    KappaSD\n",
            "1     FALSE       0      1 0.9391437 0.8663966 0.01029907 0.02256643\n",
            "2      TRUE       0      1 0.9446823 0.8769334 0.01285632 0.02676509\n",
            "  usekernel laplace adjust  Accuracy     Kappa AccuracySD    KappaSD\n",
            "1     FALSE       0      1 0.9391437 0.8684711 0.02481484 0.05029114\n",
            "2      TRUE       0      1 0.9391267 0.8646355 0.01666415 0.03402658\n",
            "  usekernel laplace adjust  Accuracy     Kappa AccuracySD   KappaSD\n",
            "1     FALSE       0      1 0.9502209 0.8923104 0.02107045 0.0453492\n",
            "2      TRUE       0      1 0.9428814 0.8724468 0.02074608 0.0479411\n",
            "  usekernel laplace adjust  Accuracy     Kappa AccuracySD    KappaSD\n",
            "1     FALSE       0      1 0.9613320 0.9166496 0.02368518 0.04981840\n",
            "2      TRUE       0      1 0.9539076 0.8983019 0.01288579 0.02700129\n",
            "  usekernel laplace adjust  Accuracy     Kappa AccuracySD    KappaSD\n",
            "1     FALSE       0      1 0.9096330 0.7945934 0.01750177 0.03910190\n",
            "2      TRUE       0      1 0.9022256 0.7789774 0.01036688 0.02100878\n",
            "  usekernel laplace adjust  Accuracy     Kappa AccuracySD    KappaSD\n",
            "1     FALSE       0      1 0.9408597 0.8683411 0.02912055 0.06638158\n",
            "2      TRUE       0      1 0.9409106 0.8679127 0.01421144 0.03186775\n",
            "  usekernel laplace adjust  Accuracy     Kappa AccuracySD    KappaSD\n",
            "1     FALSE       0      1 0.9464662 0.8822535 0.01665979 0.03694515\n",
            "2      TRUE       0      1 0.9427115 0.8727331 0.03435480 0.07673381\n",
            "  usekernel laplace adjust  Accuracy     Kappa AccuracySD    KappaSD\n",
            "1     FALSE       0      1 0.9447842 0.8806248 0.03660210 0.07736540\n",
            "2      TRUE       0      1 0.9466191 0.8808834 0.04168511 0.09225146\n",
            "  usekernel laplace adjust  Accuracy     Kappa AccuracySD    KappaSD\n",
            "1     FALSE       0      1 0.9501359 0.8917780 0.02140201 0.04650182\n",
            "2      TRUE       0      1 0.9409616 0.8675929 0.02322731 0.05275527\n",
            "  usekernel laplace adjust  Accuracy     Kappa AccuracySD    KappaSD\n",
            "1     FALSE       0      1 0.9539076 0.8996386 0.01109849 0.02445337\n",
            "2      TRUE       0      1 0.9520217 0.8937945 0.01899797 0.04195369\n",
            "  usekernel laplace adjust  Accuracy     Kappa AccuracySD    KappaSD\n",
            "1     FALSE       0      1 0.8893476 0.7412759 0.02323737 0.05911993\n",
            "2      TRUE       0      1 0.9058953 0.7854921 0.02115670 0.04864251\n",
            "  usekernel laplace adjust  Accuracy     Kappa AccuracySD    KappaSD\n",
            "1     FALSE       0      1 0.9132518 0.8043172 0.02594487 0.06064340\n",
            "2      TRUE       0      1 0.9150697 0.8069636 0.02900988 0.07025167\n",
            "  usekernel laplace adjust  Accuracy     Kappa AccuracySD    KappaSD\n",
            "1     FALSE       0      1 0.9188753 0.8180471 0.02357376 0.05411559\n",
            "2      TRUE       0      1 0.9206592 0.8200718 0.01051273 0.02401836\n",
            "  usekernel laplace adjust  Accuracy     Kappa AccuracySD    KappaSD\n",
            "1     FALSE       0      1 0.9299524 0.8456099 0.02857620 0.06369053\n",
            "2      TRUE       0      1 0.9207611 0.8215432 0.02853158 0.06362430\n",
            "  usekernel laplace adjust  Accuracy     Kappa AccuracySD   KappaSD\n",
            "1     FALSE       0      1 0.9428304 0.8759938 0.02084397 0.0431222\n",
            "2      TRUE       0      1 0.9447333 0.8770198 0.03363419 0.0737463\n",
            "  usekernel laplace adjust  Accuracy     Kappa AccuracySD   KappaSD\n",
            "1     FALSE       0      1 0.8800204 0.7227826 0.01771234 0.0410068\n",
            "2      TRUE       0      1 0.8800204 0.7227826 0.01771234 0.0410068\n",
            "  usekernel laplace adjust  Accuracy     Kappa AccuracySD   KappaSD\n",
            "1     FALSE       0      1 0.8670065 0.6866740 0.05397274 0.1310365\n",
            "2      TRUE       0      1 0.8504247 0.6375468 0.04435111 0.1138709\n",
            "  usekernel laplace adjust  Accuracy     Kappa AccuracySD    KappaSD\n",
            "1     FALSE       0      1 0.9114509 0.8006009 0.01393765 0.03089156\n",
            "2      TRUE       0      1 0.8986069 0.7684298 0.02798977 0.06262478\n",
            "  usekernel laplace adjust  Accuracy     Kappa AccuracySD    KappaSD\n",
            "1     FALSE       0      1 0.9409276 0.8708048 0.01929816 0.04158630\n",
            "2      TRUE       0      1 0.9298505 0.8427046 0.02978276 0.06781599\n",
            "  usekernel laplace adjust  Accuracy     Kappa AccuracySD    KappaSD\n",
            "1     FALSE       0      1 0.7915392 0.4664529 0.04019378 0.11947579\n",
            "2      TRUE       0      1 0.8081380 0.5228958 0.02443064 0.06552512\n",
            "  usekernel laplace adjust  Accuracy     Kappa AccuracySD    KappaSD\n",
            "1     FALSE       0      1 0.8985559 0.7675461 0.01818452 0.04126703\n",
            "2      TRUE       0      1 0.8708461 0.6936641 0.02165246 0.05808446\n",
            "  usekernel laplace adjust  Accuracy     Kappa AccuracySD    KappaSD\n",
            "1     FALSE       0      1 0.9336561 0.8521323 0.02532585 0.05652482\n",
            "2      TRUE       0      1 0.9244309 0.8273466 0.02916909 0.06884913\n",
            "  usekernel laplace adjust  Accuracy     Kappa AccuracySD    KappaSD\n",
            "1     FALSE       0      1 0.8653245 0.6801231 0.02114298 0.05312948\n",
            "2      TRUE       0      1 0.9059463 0.7865423 0.01615903 0.03865472\n",
            "  usekernel laplace adjust  Accuracy     Kappa AccuracySD    KappaSD\n",
            "1     FALSE       0      1 0.9391947 0.8639263  0.0237780 0.05300694\n",
            "2      TRUE       0      1 0.9318213 0.8466740  0.0334551 0.07649067\n",
            "  usekernel laplace adjust  Accuracy     Kappa AccuracySD    KappaSD\n",
            "1     FALSE       0      1 0.8617057 0.6778762 0.02935241 0.06972414\n",
            "2      TRUE       0      1 0.8598369 0.6648202 0.02978025 0.07181179\n"
          ]
        },
        {
          "data": {
            "text/html": [
              "<table class=\"dataframe\">\n",
              "<caption>A data.frame: 0 × 7</caption>\n",
              "<thead>\n",
              "\t<tr><th scope=col>usekernel</th><th scope=col>laplace</th><th scope=col>adjust</th><th scope=col>Accuracy</th><th scope=col>Kappa</th><th scope=col>AccuracySD</th><th scope=col>KappaSD</th></tr>\n",
              "\t<tr><th scope=col>&lt;lgl&gt;</th><th scope=col>&lt;dbl&gt;</th><th scope=col>&lt;dbl&gt;</th><th scope=col>&lt;dbl&gt;</th><th scope=col>&lt;dbl&gt;</th><th scope=col>&lt;dbl&gt;</th><th scope=col>&lt;dbl&gt;</th></tr>\n",
              "</thead>\n",
              "<tbody>\n",
              "</tbody>\n",
              "</table>\n"
            ],
            "text/latex": "A data.frame: 0 × 7\n\\begin{tabular}{lllllll}\n usekernel & laplace & adjust & Accuracy & Kappa & AccuracySD & KappaSD\\\\\n <lgl> & <dbl> & <dbl> & <dbl> & <dbl> & <dbl> & <dbl>\\\\\n\\hline\n\\end{tabular}\n",
            "text/markdown": "\nA data.frame: 0 × 7\n\n| usekernel &lt;lgl&gt; | laplace &lt;dbl&gt; | adjust &lt;dbl&gt; | Accuracy &lt;dbl&gt; | Kappa &lt;dbl&gt; | AccuracySD &lt;dbl&gt; | KappaSD &lt;dbl&gt; |\n|---|---|---|---|---|---|---|\n\n",
            "text/plain": [
              "     usekernel laplace adjust Accuracy Kappa AccuracySD KappaSD"
            ]
          },
          "metadata": {},
          "output_type": "display_data"
        },
        {
          "data": {
            "text/html": [
              "<ol>\n",
              "</ol>\n"
            ],
            "text/latex": "\\begin{enumerate}\n\\end{enumerate}\n",
            "text/markdown": "\n\n",
            "text/plain": [
              "list()"
            ]
          },
          "metadata": {},
          "output_type": "display_data"
        }
      ],
      "source": [
        "## Naive Bayes K= 5\n",
        "  \n",
        " nb=list()\n",
        " res.nb=c()\n",
        " for(j in 1:length(modelos)){\n",
        "  nb[[j]] <- train(x=data.train[modelos[[j]]], y=as.character(data.train$Class), \n",
        "       trControl=trainControl(method=\"cv\", number=5),\n",
        "       method=\"naive_bayes\")\n",
        "  res.nb=rbind(res.nb,  nb[[j]]$results[which.max(nb[[j]]$results$F1),])\n",
        "  print(nb[[j]]$results)\n",
        " }\n",
        " res.nb[which.max(res.nb$F1),]\n",
        " modelos[which.max(res.nb$F1)]"
      ]
    },
    {
      "cell_type": "code",
      "execution_count": null,
      "metadata": {
        "id": "sXjAyaohgoot"
      },
      "outputs": [],
      "source": [
        ""
      ]
    },
    {
      "cell_type": "code",
      "execution_count": null,
      "metadata": {
        "id": "79UzpQtHemQ-"
      },
      "outputs": [],
      "source": [
        ""
      ]
    }
  ],
  "metadata": {
    "colab": {
      "collapsed_sections": [
        "1gldU2DnDFC4"
      ],
      "name": "Pregunta1_lab2.ipynb",
      "provenance": [],
      "include_colab_link": true
    },
    "kernelspec": {
      "display_name": "R",
      "name": "ir"
    },
    "language_info": {
      "name": "R"
    }
  },
  "nbformat": 4,
  "nbformat_minor": 0
}